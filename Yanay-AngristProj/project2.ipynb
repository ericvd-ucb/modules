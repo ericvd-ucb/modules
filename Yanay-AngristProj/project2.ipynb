{
 "cells": [
  {
   "cell_type": "code",
   "execution_count": null,
   "metadata": {
    "deletable": false,
    "editable": false
   },
   "outputs": [],
   "source": [
    "# Initialize OK\n",
    "from client.api.notebook import Notebook\n",
    "ok = Notebook('project2.ok')"
   ]
  },
  {
   "cell_type": "markdown",
   "metadata": {},
   "source": [
    "# Project 2: Natural Experiments: The Vietnam War Draft"
   ]
  },
  {
   "cell_type": "markdown",
   "metadata": {},
   "source": [
    "### Logistics\n",
    "\n",
    "\n",
    "**Deadline.** This project is due at 11:59pm P.T. on Friday, 4/9. Projects will be accepted up to 2 days (48 hours) late; a project submitted less than 24 hours after the deadline will receive 2/3 credit, a project submitted between 24 and 48 hours after the deadline will receive 1/3 credit, and a project submitted 48 hours or more after the deadline will receive no credit. It's **much** better to be early than late, so start working now.\n",
    "\n",
    "**Checkpoint.** For full credit on the checkpoint, you must complete section 1 and 2 of Part 1, pass all public autograder tests, and submit to okpy by 11:59pm P.T. on Friday, 4/2. This is worth 1 point of your entire project grade. After you've submitted the checkpoint, you may still change your answers before the project deadline - only your final submission will be graded for correctness. You will have some lab time to work on these questions, but we recommend that you start the project before lab and leave time to finish the checkpoint afterward.\n",
    "\n",
    "**Partners.** You may work with one other partner; your partner must be from your assigned lab section. Only one of you is required to submit the project. On [okpy.org](http://okpy.org), the person who submits should also designate their partner so that both of you receive credit. Feel free to split up the work between your partner, share what you complete with each other in a google document, and share your screen in a Zoom call as you work together.\n",
    "\n",
    "**Rules.** Don't share your code with anybody but your partner. You are welcome to discuss questions with other students, but don't share the answers. The experience of solving the problems in this project will prepare you for exams (and life). If someone asks you for the answer, resist! Instead, you can demonstrate how you would solve a similar problem.\n",
    "\n",
    "**Support.** You are not alone! Come to office hours, post on Piazza, and talk to your classmates. If you want to ask about the details of your solution to a problem, make a private Piazza post and the staff will respond. If you're ever feeling overwhelmed or don't know how to make progress, email your discussion TA or tutor for help. You can find contact information for the staff on the [course website](http://data8.org/sp21/staff.html).\n",
    "\n",
    "**Tests.** The tests that are given are **not comprehensive** and passing the tests for a question **does not** mean that you answered the question correctly. Tests usually only check that your table has the correct column labels. However, more tests will be applied to verify the correctness of your submission in order to assign your final score, so be careful and check your work! You might want to create your own checks along the way to see if your answers make sense. Additionally, before you submit, make sure that none of your cells take a very long time to run (several minutes). Each question is worth 1 point of your total project grade.\n",
    "\n",
    "**Free Response Questions:** Make sure that you put the answers to the written questions in the indicated cell we provide. **Every free response question should include an explanation** that adequately answers the question. Check to make sure that you have a [Gradescope](http://gradescope.com) account, which is where the scores to the free response questions will be posted. If you do not, make sure to reach out to your assigned TA.\n",
    "\n",
    "**Advice.** Develop your answers incrementally. To perform a complicated table manipulation, break it up into steps, perform each step on a different line, give a new name to each result, and check that each intermediate result is what you expect. You can add any additional names or functions you want to the provided cells. Make sure that you are using distinct and meaningful variable names throughout the notebook. Along that line, **DO NOT** reuse the variable names that we use when we grade your answers.\n",
    "\n",
    "You **never** have to use just one line in this project or any others. Use intermediate variables and multiple lines as much as you would like!\n",
    "\n",
    "All of the concepts necessary for this project are found in the textbook. If you are stuck on a particular problem, reading through the relevant textbook section often will help clarify the concept.\n",
    "\n",
    "To get started, load `datascience`, `numpy`, `plots`, and `ok`."
   ]
  },
  {
   "cell_type": "code",
   "execution_count": 1,
   "metadata": {},
   "outputs": [],
   "source": [
    "# Don't change this cell; just run it. \n",
    "# When you log-in please hit return (not shift + return) after typing in your email\n",
    "\n",
    "from datascience import *\n",
    "import numpy as np\n",
    "\n",
    "%matplotlib inline\n",
    "import matplotlib.pyplot as plots\n",
    "plots.style.use('fivethirtyeight')\n",
    "np.set_printoptions(legacy='1.13')\n",
    "\n",
    "from client.api.notebook import *\n",
    "def new_save_notebook(self):\n",
    "    \"\"\" Saves the current notebook by\n",
    "        injecting JavaScript to save to .ipynb file.\n",
    "    \"\"\"\n",
    "    try:\n",
    "        from IPython.display import display, Javascript\n",
    "    except ImportError:\n",
    "        log.warning(\"Could not import IPython Display Function\")\n",
    "        print(\"Make sure to save your notebook before sending it to OK!\")\n",
    "        return\n",
    "\n",
    "    if self.mode == \"jupyter\":\n",
    "        display(Javascript('IPython.notebook.save_checkpoint();'))\n",
    "        display(Javascript('IPython.notebook.save_notebook();'))\n",
    "    elif self.mode == \"jupyterlab\":\n",
    "        display(Javascript('document.querySelector(\\'[data-command=\"docmanager:save\"]\\').click();'))   \n",
    "\n",
    "    print('Saving notebook...', end=' ')\n",
    "\n",
    "    ipynbs = [path for path in self.assignment.src\n",
    "              if os.path.splitext(path)[1] == '.ipynb']\n",
    "    # Wait for first .ipynb to save\n",
    "    if ipynbs:\n",
    "        if wait_for_save(ipynbs[0]):\n",
    "            print(\"Saved '{}'.\".format(ipynbs[0]))\n",
    "        else:\n",
    "            log.warning(\"Timed out waiting for IPython save\")\n",
    "            print(\"Could not automatically save \\'{}\\'\".format(ipynbs[0]))\n",
    "            print(\"Make sure your notebook\"\n",
    "                  \" is correctly named and saved before submitting to OK!\".format(ipynbs[0]))\n",
    "            return False                \n",
    "    else:\n",
    "        print(\"No valid file sources found\")\n",
    "    return True\n",
    "\n",
    "def wait_for_save(filename, timeout=600):\n",
    "    \"\"\"Waits for FILENAME to update, waiting up to TIMEOUT seconds.\n",
    "    Returns True if a save was detected, and False otherwise.\n",
    "    \"\"\"\n",
    "    modification_time = os.path.getmtime(filename)\n",
    "    start_time = time.time()\n",
    "    while time.time() < start_time + timeout:\n",
    "        if (os.path.getmtime(filename) > modification_time and\n",
    "            os.path.getsize(filename) > 0):\n",
    "            return True\n",
    "        time.sleep(0.2)\n",
    "    print(\"\\nERROR!\\n YOUR SUBMISSION DID NOT GO THROUGH. PLEASE TRY AGAIN. IF THIS PROBLEM PERSISTS POST ON PIAZZA RIGHT AWAY.\\n ERROR!\" + \"\\n\"*20)\n",
    "    return False\n",
    "\n",
    "Notebook.save_notebook = new_save_notebook\n",
    "\n",
    "from client.api.notebook import Notebook\n",
    "ok = Notebook('project2.ok')\n",
    "ok.auth(force=True)\n",
    "_ = ok.submit()"
   ]
  },
  {
   "cell_type": "markdown",
   "metadata": {},
   "source": [
    "# Background\n",
    "\"The Vietnam War (Vietnamese: Chiến tranh Việt Nam), also known as the Second Indochina War, and in Vietnam as the Resistance War Against America (Vietnamese: Kháng chiến chống Mỹ) or simply the American War, was a conflict in Vietnam, Laos, and Cambodia from 1 November 1955 to the fall of Saigon on 30 April 1975.\" - Wikipedia.\n",
    "\n",
    "The Vietnam War was the last war in which the United States employed a policy of conscription—\"the compulsory induction of individuals into the Armed Services\". Conscription means you are forced to join the military under certain legal penalties. \n",
    "\n",
    "Men are chosen to be conscripted by the \"draft\".\n",
    "\n",
    "This assignment is in part inspired by an assignment from Professor Yun S. Song's STAT 135 class."
   ]
  },
  {
   "cell_type": "markdown",
   "metadata": {},
   "source": [
    "# Part 1: The 1969 Draft Lottery\n",
    "The first draft of the Vietnam War took place on December 1st, 1969. Men aged 19-26, born in 1944-1950, were eligible to be drafted. 366 plastic lottery balls, representing every day of the year, and the leap day February 29th, were placed into an urn and selected one at a time and the order was recorded. For the 1969 lottery, all men with birthdays whose corresponding lottery balls were selected 195th or lower were drafted\\*.\n",
    "\n",
    "\\*drafted in this case means \"classified as available for military service, were called to report for possible induction.\""
   ]
  },
  {
   "cell_type": "markdown",
   "metadata": {},
   "source": [
    "Run the following cell to load in the `lotto` table.\n",
    "\n",
    "The `lotto` table was sourced from [randomservices.org](https://www.randomservices.org/random/data/Draft.html)."
   ]
  },
  {
   "cell_type": "code",
   "execution_count": 2,
   "metadata": {
    "deletable": false
   },
   "outputs": [],
   "source": [
    "# Read in the data\n",
    "lotto = Table.read_table(\"lottery.tsv\", sep=\"\\t\")\n",
    "lotto"
   ]
  },
  {
   "cell_type": "markdown",
   "metadata": {},
   "source": [
    "The `lotto` table contains the columns `M` and `D` corresponding to the month and day of the birthdays on the lottery balls, and a column for each draft that contains the order that the birthday was drawn in each of the four draft lotteries. For this section we are only interested in the \\`69 draft which would be the `N69` column."
   ]
  },
  {
   "cell_type": "markdown",
   "metadata": {},
   "source": [
    "## Section 1: Investigating December\n",
    "Let's check to see if the 1969 lottery process was truly random and fair.\n",
    "\n",
    "The `lotto69` table has only the columns from the `lotto` table pertinent to the 1969 draft."
   ]
  },
  {
   "cell_type": "code",
   "execution_count": 3,
   "metadata": {
    "deletable": false
   },
   "outputs": [],
   "source": [
    "lotto69 = lotto.select(\"M\", \"D\", \"N69\")"
   ]
  },
  {
   "cell_type": "markdown",
   "metadata": {
    "deletable": false,
    "editable": false
   },
   "source": [
    "**Question 1.1.1:** Let's investigate the data visually first. Draw a scatter plot of draft number vs month.\n",
    "\n",
    "*Note: although month is a categorical value we are using it as a numerical value for the sake of this plot.*\n",
    "\n",
    "<!--\n",
    "BEGIN QUESTION\n",
    "name: q1_1_1\n",
    "manual: true\n",
    "-->\n",
    "<!-- EXPORT TO PDF -->"
   ]
  },
  {
   "cell_type": "code",
   "execution_count": 4,
   "metadata": {
    "deletable": false,
    "export_pdf": true
   },
   "outputs": [],
   "source": [
    "..."
   ]
  },
  {
   "cell_type": "markdown",
   "metadata": {
    "deletable": false,
    "editable": false
   },
   "source": [
    "**Question 1.1.2:** It's a bit hard to tell what's happening in that plot. Aggregate the data and plot a bar chart of the average draft number vs month.\n",
    "\n",
    "<!--\n",
    "BEGIN QUESTION\n",
    "name: q1_1_2\n",
    "manual: true\n",
    "-->\n",
    "<!-- EXPORT TO PDF -->"
   ]
  },
  {
   "cell_type": "code",
   "execution_count": 5,
   "metadata": {
    "deletable": false,
    "export_pdf": true
   },
   "outputs": [],
   "source": [
    "..."
   ]
  },
  {
   "cell_type": "markdown",
   "metadata": {},
   "source": [
    "It seems that December (month 12) has a lower average draft number than the other months."
   ]
  },
  {
   "cell_type": "markdown",
   "metadata": {
    "deletable": false,
    "editable": false
   },
   "source": [
    "**Question 1.1.3:** How many birthdays in December were chosen to be drafted? Recall that if your lottery number was less than or equal to 195, you would be drafted.\n",
    "\n",
    "<!--\n",
    "BEGIN QUESTION\n",
    "name: q1_1_3\n",
    "-->"
   ]
  },
  {
   "cell_type": "code",
   "execution_count": 6,
   "metadata": {
    "deletable": false
   },
   "outputs": [],
   "source": [
    "num_drafted = ...\n",
    "num_drafted"
   ]
  },
  {
   "cell_type": "code",
   "execution_count": null,
   "metadata": {
    "deletable": false,
    "editable": false
   },
   "outputs": [],
   "source": [
    "ok.grade(\"q1_1_3\");"
   ]
  },
  {
   "cell_type": "markdown",
   "metadata": {},
   "source": [
    "We will perform a hypothesis test to check if this high number of birthdays selected in December, 1969, is statistically significant: was the lottery truly random?"
   ]
  },
  {
   "cell_type": "markdown",
   "metadata": {
    "deletable": false,
    "editable": false
   },
   "source": [
    "**Question 1.1.4:** What is our null hypothesis?\n",
    "<!--\n",
    "BEGIN QUESTION\n",
    "name: q1_1_4\n",
    "manual: true\n",
    "-->\n",
    "<!-- EXPORT TO PDF -->"
   ]
  },
  {
   "cell_type": "markdown",
   "metadata": {
    "deletable": false,
    "export_pdf": true,
    "manual_grade": true
   },
   "source": [
    "*Write your answer here, replacing this text.*"
   ]
  },
  {
   "cell_type": "markdown",
   "metadata": {
    "deletable": false,
    "editable": false
   },
   "source": [
    "**Question 1.1.5:** What is our alternative hypothesis?\n",
    "<!--\n",
    "BEGIN QUESTION\n",
    "name: q1_1_5\n",
    "manual: true\n",
    "-->\n",
    "<!-- EXPORT TO PDF -->"
   ]
  },
  {
   "cell_type": "markdown",
   "metadata": {
    "deletable": false,
    "export_pdf": true,
    "manual_grade": true
   },
   "source": [
    "*Write your answer here, replacing this text.*"
   ]
  },
  {
   "cell_type": "markdown",
   "metadata": {},
   "source": [
    "The test statistic we will use is the number of birthdays selected in December."
   ]
  },
  {
   "cell_type": "markdown",
   "metadata": {
    "deletable": false,
    "editable": false
   },
   "source": [
    "**Question 1.1.6:** Fill out the function `statistic` that returns one value of our test statistic given an array of draft numbers for the 31 days in December.\n",
    "\n",
    "<!--\n",
    "BEGIN QUESTION\n",
    "name: q1_1_6\n",
    "-->"
   ]
  },
  {
   "cell_type": "code",
   "execution_count": 9,
   "metadata": {
    "deletable": false
   },
   "outputs": [],
   "source": [
    "def statistic(dec_array):\n",
    "    ...\n",
    "\n",
    "obs_test_stat = ...\n",
    "obs_test_stat"
   ]
  },
  {
   "cell_type": "code",
   "execution_count": null,
   "metadata": {
    "deletable": false,
    "editable": false
   },
   "outputs": [],
   "source": [
    "ok.grade(\"q1_1_6\");"
   ]
  },
  {
   "cell_type": "markdown",
   "metadata": {
    "deletable": false,
    "editable": false
   },
   "source": [
    "**Question 1.1.7:** Fill out the function `simulate` to simulate one sample under the null hypothesis and return a value of our test statistic. \n",
    "\n",
    "*Hint 1: Draft numbers start at 1!*\n",
    "\n",
    "*Hint 2: Remember that leap year birthdays are included!*\n",
    "\n",
    "<!--\n",
    "BEGIN QUESTION\n",
    "name: q1_1_7\n",
    "-->"
   ]
  },
  {
   "cell_type": "code",
   "execution_count": 12,
   "metadata": {
    "deletable": false
   },
   "outputs": [],
   "source": [
    "# These should be useful!\n",
    "num_days_dec = 31 \n",
    "possible_draft_numbers = ...\n",
    "\n",
    "def simulate():\n",
    "    sample_dec_array = ...\n",
    "    ...\n",
    "\n",
    "simulate()"
   ]
  },
  {
   "cell_type": "code",
   "execution_count": null,
   "metadata": {
    "deletable": false,
    "editable": false
   },
   "outputs": [],
   "source": [
    "ok.grade(\"q1_1_7\");"
   ]
  },
  {
   "cell_type": "markdown",
   "metadata": {
    "deletable": false,
    "editable": false
   },
   "source": [
    "**Question 1.1.8:** Simulate and store 10000 values of the test statistic in the array `test_stats` and draw a histogram of the values.\n",
    "\n",
    "<!--\n",
    "BEGIN QUESTION\n",
    "name: q1_1_8\n",
    "manual: true\n",
    "-->\n",
    "<!-- EXPORT TO PDF -->"
   ]
  },
  {
   "cell_type": "code",
   "execution_count": 16,
   "metadata": {
    "deletable": false,
    "export_pdf": true
   },
   "outputs": [],
   "source": [
    "test_stats = ...\n",
    "reps = ...\n",
    "\n",
    "...\n",
    "\n",
    "Table().with_columns(\"Simulated Statistics\", test_stats).hist(\"Simulated Statistics\")"
   ]
  },
  {
   "cell_type": "markdown",
   "metadata": {
    "deletable": false,
    "editable": false
   },
   "source": [
    "**Question 1.1.9:** Compute the p-value of the hypothesis test and assign it to `dec_p_val`.\n",
    "\n",
    "<!--\n",
    "BEGIN QUESTION\n",
    "name: q1_1_9\n",
    "-->"
   ]
  },
  {
   "cell_type": "code",
   "execution_count": 17,
   "metadata": {
    "deletable": false
   },
   "outputs": [],
   "source": [
    "dec_p_val = ...\n",
    "dec_p_val"
   ]
  },
  {
   "cell_type": "code",
   "execution_count": null,
   "metadata": {
    "deletable": false,
    "editable": false
   },
   "outputs": [],
   "source": [
    "ok.grade(\"q1_1_9\");"
   ]
  },
  {
   "cell_type": "markdown",
   "metadata": {
    "deletable": false,
    "editable": false
   },
   "source": [
    "**Question 1.1.10:** According to the [New York Times](https://www.nytimes.com/1970/01/04/archives/statisticians-charge-draft-lottery-was-not-random.html), \n",
    "> \"draft officials acknowledge, the capsules with the later months were not mixed as thoroughly as those of the earlier months.\" \n",
    "\n",
    "Using a p-value cutoff of 5%, assign `reject_dec` to a boolean expression that evaluates to `True` if we should reject the null hypothesis and `False` if we fail to.\n",
    "\n",
    "<!--\n",
    "BEGIN QUESTION\n",
    "name: q1_1_10\n",
    "-->"
   ]
  },
  {
   "cell_type": "code",
   "execution_count": 20,
   "metadata": {
    "deletable": false
   },
   "outputs": [],
   "source": [
    "reject_dec = ...\n",
    "reject_dec"
   ]
  },
  {
   "cell_type": "code",
   "execution_count": null,
   "metadata": {
    "deletable": false,
    "editable": false
   },
   "outputs": [],
   "source": [
    "ok.grade(\"q1_1_10\");"
   ]
  },
  {
   "cell_type": "markdown",
   "metadata": {},
   "source": [
    "## Section 2: The Other Months"
   ]
  },
  {
   "cell_type": "markdown",
   "metadata": {},
   "source": [
    "It appears that December had some issues in the lottery, but what about the other months? For each month let's test a slightly different hypothesis, not that the number drafted in that month is too high, but that it is either too high or too low."
   ]
  },
  {
   "cell_type": "markdown",
   "metadata": {
    "deletable": false,
    "editable": false
   },
   "source": [
    "**Question 1.2.1:** Define the function `new_stat` that computes the value for our new test statistic given `prop_selected`, the proportion of days in the month selected in a sample. Our new test statistic is the absolute difference between the sample proportion selected and the expected proportion selected.\n",
    "\n",
    "<!--\n",
    "BEGIN QUESTION\n",
    "name: q1_2_1\n",
    "-->"
   ]
  },
  {
   "cell_type": "code",
   "execution_count": 23,
   "metadata": {
    "deletable": false
   },
   "outputs": [],
   "source": [
    "def new_stat(prop_selected):\n",
    "    ...\n",
    "\n",
    "dec_new_stat = new_stat(26/31)\n",
    "dec_new_stat"
   ]
  },
  {
   "cell_type": "code",
   "execution_count": null,
   "metadata": {
    "deletable": false,
    "editable": false
   },
   "outputs": [],
   "source": [
    "ok.grade(\"q1_2_1\");"
   ]
  },
  {
   "cell_type": "markdown",
   "metadata": {
    "deletable": false,
    "editable": false
   },
   "source": [
    "**Question 1.2.2:** Define the function `new_simulate` that takes in an integer, `month`, and returns an array of 1000 simulated values of our new statistic under the null hypothesis.\n",
    "\n",
    "*Hint: The table* `months` *should be very helpful!*\n",
    "\n",
    "<!--\n",
    "BEGIN QUESTION\n",
    "name: q1_2_2\n",
    "manual: true\n",
    "-->\n",
    "<!-- EXPORT TO PDF -->"
   ]
  },
  {
   "cell_type": "code",
   "execution_count": 28,
   "metadata": {
    "deletable": false,
    "export_pdf": true
   },
   "outputs": [],
   "source": [
    "months = lotto69.group(\"M\")\n",
    "\n",
    "def new_simulate(month):\n",
    "    num_days_in_month = ...\n",
    "    reps = ...\n",
    "    \n",
    "    test_stats = ...\n",
    "    \n",
    "    for i in np.arange(reps):\n",
    "        one_sample = ...\n",
    "        prop_selected_sample = ...\n",
    "        one_new_stat = ...\n",
    "        test_stats = ...\n",
    "        \n",
    "    ...\n",
    "\n",
    "# DON'T CHANGE THE LINE\n",
    "Table().with_column('Simulated Stats for January', new_simulate(1)).hist(0, bins=10) # Simulated stats for January"
   ]
  },
  {
   "cell_type": "markdown",
   "metadata": {
    "deletable": false,
    "editable": false
   },
   "source": [
    "**Question 1.2.3:** Define the function `calc_p` that takes in an integer, `month` as an argument and returns the empirical p-value of the hypothesis test for that month.\n",
    "\n",
    "*Hint: Add extra cells to test different pieces of your code!*\n",
    "\n",
    "<!--\n",
    "BEGIN QUESTION\n",
    "name: q1_2_3\n",
    "-->"
   ]
  },
  {
   "cell_type": "code",
   "execution_count": 29,
   "metadata": {
    "deletable": false
   },
   "outputs": [],
   "source": [
    "def calc_p(month):\n",
    "    simulated_test_stats = ...\n",
    "    observed_num_drafted = ...\n",
    "    num_days_in_month = ...\n",
    "    observed_value = ...\n",
    "    p_val = ...\n",
    "    ...\n",
    "\n",
    "january_p_value = calc_p(1)\n",
    "january_p_value"
   ]
  },
  {
   "cell_type": "code",
   "execution_count": null,
   "metadata": {
    "deletable": false,
    "editable": false
   },
   "outputs": [],
   "source": [
    "ok.grade(\"q1_2_3\");"
   ]
  },
  {
   "cell_type": "markdown",
   "metadata": {
    "deletable": false,
    "editable": false
   },
   "source": [
    "**Question 1.2.4:** Draw a bar chart of the p-values for each month. This might take some time to run.\n",
    "\n",
    "*Hint: DO NOT TRY CALLING THE FUNCTION ON EVERY ROW IN THE LOTTO TABLE!*\n",
    "\n",
    "<!--\n",
    "BEGIN QUESTION\n",
    "name: q1_2_4\n",
    "manual: true\n",
    "-->\n",
    "<!-- EXPORT TO PDF -->"
   ]
  },
  {
   "cell_type": "code",
   "execution_count": 35,
   "metadata": {
    "deletable": false,
    "export_pdf": true
   },
   "outputs": [],
   "source": [
    "p_vals_per_month = ...\n",
    "months_and_p_vals = months.with_column(\"p vals\", p_vals_per_month)\n",
    "months_and_p_vals.barh(\"M\", \"p vals\")\n",
    "# DON'T CHANGE THE FOLLOWING LINE OF CODE\n",
    "plots.plot([0.05, 0.05], [0, 12], color=\"gold\"); # Plots the cutoff of 5%"
   ]
  },
  {
   "cell_type": "markdown",
   "metadata": {},
   "source": [
    "You should see 3 months with significant results."
   ]
  },
  {
   "cell_type": "markdown",
   "metadata": {},
   "source": [
    "**For the next 2 questions we are using a 5% p-value cutoff.**"
   ]
  },
  {
   "cell_type": "markdown",
   "metadata": {
    "deletable": false,
    "editable": false
   },
   "source": [
    "**Question 1.2.5:** What is the probability that if the null hypothesis is true, we still reject it? This is also called the false positive rate or \"alpha\". Assign that value to `alpha`.\n",
    "\n",
    "<!--\n",
    "BEGIN QUESTION\n",
    "name: q1_2_5\n",
    "-->"
   ]
  },
  {
   "cell_type": "code",
   "execution_count": 36,
   "metadata": {
    "deletable": false
   },
   "outputs": [],
   "source": [
    "alpha = ...\n",
    "alpha"
   ]
  },
  {
   "cell_type": "code",
   "execution_count": null,
   "metadata": {
    "deletable": false,
    "editable": false
   },
   "outputs": [],
   "source": [
    "ok.grade(\"q1_2_5\");"
   ]
  },
  {
   "cell_type": "markdown",
   "metadata": {
    "deletable": false,
    "editable": false
   },
   "source": [
    "**Question 1.2.6:** What is the probability that we get at least one false positive, if the null hypothesis is true, and we run 12 hypothesis tests (like we did above)? Assign that probability to `multiple_alpha`.\n",
    "\n",
    "<!--\n",
    "BEGIN QUESTION\n",
    "name: q1_2_6\n",
    "-->"
   ]
  },
  {
   "cell_type": "code",
   "execution_count": 39,
   "metadata": {
    "deletable": false
   },
   "outputs": [],
   "source": [
    "multiple_alpha = ...\n",
    "multiple_alpha"
   ]
  },
  {
   "cell_type": "code",
   "execution_count": null,
   "metadata": {
    "deletable": false,
    "editable": false
   },
   "outputs": [],
   "source": [
    "ok.grade(\"q1_2_6\");"
   ]
  },
  {
   "cell_type": "markdown",
   "metadata": {},
   "source": [
    "Yikes, that number is pretty high. Luckily, statisticians have developed a few ways to deal with this problem."
   ]
  },
  {
   "cell_type": "markdown",
   "metadata": {
    "deletable": false,
    "editable": false
   },
   "source": [
    "**Question 1.2.7:** One way to deal with this issue is to use a lower p-value cutoff. To determine our new p-value cutoff, we can divide our original cutoff by the number of tests we are running. Calculate the probability of getting at least one false positive if we run 12 hypothesis tests and use this new adjusted p-value cutoff, assuming the null hypothesis is true in each case. Assign that value to `bonferroni`.\n",
    "\n",
    "<!--\n",
    "BEGIN QUESTION\n",
    "name: q1_2_7\n",
    "-->"
   ]
  },
  {
   "cell_type": "code",
   "execution_count": 43,
   "metadata": {
    "deletable": false,
    "scrolled": true
   },
   "outputs": [],
   "source": [
    "adjusted_cutoff = ...\n",
    "bonferroni = ...\n",
    "bonferroni"
   ]
  },
  {
   "cell_type": "code",
   "execution_count": null,
   "metadata": {
    "deletable": false,
    "editable": false
   },
   "outputs": [],
   "source": [
    "ok.grade(\"q1_2_7\");"
   ]
  },
  {
   "cell_type": "markdown",
   "metadata": {
    "deletable": false,
    "editable": false
   },
   "source": [
    "**Question 1.2.8:** Assign `num_sig` to the number of our hypothesis tests that were significant using our normal cutoff value. Assign `num_sig_adjusted` to the number of hypothesis tests that were significant using this new \"adjusted\" p-value cutoff.\n",
    "\n",
    "\n",
    "<!--\n",
    "BEGIN QUESTION\n",
    "name: q1_2_8\n",
    "-->"
   ]
  },
  {
   "cell_type": "code",
   "execution_count": 47,
   "metadata": {
    "deletable": false,
    "scrolled": true
   },
   "outputs": [],
   "source": [
    "num_sig = ...\n",
    "num_sig_adjusted = ...\n",
    "\n",
    "print(f\"Number of months significant: {num_sig}; Number of months significant after adjustment: {num_sig_adjusted}\")"
   ]
  },
  {
   "cell_type": "code",
   "execution_count": null,
   "metadata": {
    "deletable": false,
    "editable": false
   },
   "outputs": [],
   "source": [
    "ok.grade(\"q1_2_8\");"
   ]
  },
  {
   "cell_type": "markdown",
   "metadata": {
    "deletable": false,
    "editable": false
   },
   "source": [
    "**Question 1.2.9:** There are around 1300 students in Data 8 every semester, and around 500 in the summer. Presumably, each student will run the same hypothesis tests that you have ran in this experiment. Since this assignment is based on a very famous historical example, we can also assume forms of this exact hypothesis test have previously been run thousands if not millions of times. How do you think this huge number of hypothesis tests effects our conclusions, specifically related to our choice of p-value cutoff?\n",
    "\n",
    "\n",
    "<!--\n",
    "BEGIN QUESTION\n",
    "name: q1_2_9\n",
    "manual: true\n",
    "-->\n",
    "<!-- EXPORT TO PDF -->"
   ]
  },
  {
   "cell_type": "markdown",
   "metadata": {
    "export_pdf": true,
    "manual_grade": true
   },
   "source": [
    "*Write your answer here, replacing this text.*"
   ]
  },
  {
   "cell_type": "markdown",
   "metadata": {},
   "source": [
    "### Checkpoint (due Friday, 4/2 by 11:59pm PT)\n",
    "#### Congratulations, you have reached the checkpoint! Run the submit cell below to generate the checkpoint submission. "
   ]
  },
  {
   "cell_type": "code",
   "execution_count": 51,
   "metadata": {},
   "outputs": [],
   "source": [
    "_ = ok.submit()"
   ]
  },
  {
   "cell_type": "markdown",
   "metadata": {},
   "source": [
    "## Section 3: Applying the Central Limit Theorem"
   ]
  },
  {
   "cell_type": "markdown",
   "metadata": {},
   "source": [
    "As part of a lesson on the Vietnam War, Jill plans on taking a survey of the birthdays of her 45 person class to determine who could have been drafted.\n",
    "\n",
    "From the previous part, we know that 195 out of 366 of possible birthdates would be eligible. For every following question, we assume birth dates have an equal proportion in the population (this assumption is not true in reality), and we are only concered with the birthdate (ie we don't consider that the draft had limits on age or sex)."
   ]
  },
  {
   "cell_type": "markdown",
   "metadata": {
    "deletable": false,
    "editable": false
   },
   "source": [
    "**Question 1.3.1:** Which of the following facts tell us that the Central Limit Theorem will dictate the distribution of the number of students with draft eligible birthdays? Assign `choices_clt` to an array that contain integers corresponding to valid statements.\n",
    "\n",
    "1. The number of people in the class who could be drafted acts like a population sum.\n",
    "2. Since the population the class is drawn from is *reasonably* large, the class acts like a sample drawn with replacement\n",
    "3. 195/366 is fairly close to 50%\n",
    "4. Birthdates in the population are not normally distributed\n",
    "5. The class size is reasonably large\n",
    "\n",
    "<!--\n",
    "BEGIN QUESTION\n",
    "name: q1_3_1\n",
    "-->"
   ]
  },
  {
   "cell_type": "code",
   "execution_count": 52,
   "metadata": {
    "deletable": false
   },
   "outputs": [],
   "source": [
    "choices_clt = ..."
   ]
  },
  {
   "cell_type": "code",
   "execution_count": null,
   "metadata": {
    "deletable": false,
    "editable": false
   },
   "outputs": [],
   "source": [
    "ok.grade(\"q1_3_1\");"
   ]
  },
  {
   "cell_type": "markdown",
   "metadata": {
    "deletable": false,
    "editable": false
   },
   "source": [
    "**Question 1.3.2:** Plot a histogram of the distribution of the number of students with draft eligible birthdays. Use 10,000 simulated trials.\n",
    "\n",
    "*Hint: Visualize an emprical distribution of the number of students with draft eligible birthdays in 10,000 simulated samples of size 45.*\n",
    "\n",
    "<!--\n",
    "BEGIN QUESTION\n",
    "name: q1_3_2\n",
    "-->"
   ]
  },
  {
   "cell_type": "code",
   "execution_count": 56,
   "metadata": {
    "deletable": false
   },
   "outputs": [],
   "source": [
    "class_nums = ...\n",
    "reps = ...\n",
    "draft_proportions = ...\n",
    "class_size = ...\n",
    "\n",
    "...\n",
    "\n",
    "# DON'T CHANGE THIS LINE\n",
    "Table().with_column(\"Number Eligible\", class_nums).hist(0, bins=np.arange(0.5,45.5,1))"
   ]
  },
  {
   "cell_type": "markdown",
   "metadata": {},
   "source": [
    "Load the `birthdays` table in the following cell. The table contains the birthdays of Jill's class."
   ]
  },
  {
   "cell_type": "code",
   "execution_count": 57,
   "metadata": {
    "deletable": false
   },
   "outputs": [],
   "source": [
    "birthdays = Table().read_table(\"birthdays.csv\")\n",
    "birthdays.show(10)"
   ]
  },
  {
   "cell_type": "markdown",
   "metadata": {
    "deletable": false,
    "editable": false
   },
   "source": [
    "**Question 1.3.3:** We need to use the lottery information from the `lotto` table to determine which of these birthdays are eligible. Create a new table called `birthdays_new` that has the `M`, `D` from `birthdays` and the `N69` column from `lotto`. The rows should correspond to the 45 rows in the `birthdays` table.\n",
    "\n",
    "*Hint: Remember that you can join on multiple columns at the same time by passing **lists** as the column arguments. [Example](http://data8.org/datascience/_autosummary/datascience.tables.Table.join.html)*\n",
    "\n",
    "<!--\n",
    "BEGIN QUESTION\n",
    "name: q1_3_3\n",
    "-->"
   ]
  },
  {
   "cell_type": "code",
   "execution_count": 58,
   "metadata": {
    "deletable": false
   },
   "outputs": [],
   "source": [
    "birthdays_new = ...\n",
    "birthdays_new"
   ]
  },
  {
   "cell_type": "code",
   "execution_count": null,
   "metadata": {
    "deletable": false,
    "editable": false
   },
   "outputs": [],
   "source": [
    "ok.grade(\"q1_3_3\");"
   ]
  },
  {
   "cell_type": "markdown",
   "metadata": {
    "deletable": false,
    "editable": false
   },
   "source": [
    "**Question 1.3.4:** Generate a 95% Confidence interval for the sample number of eligible students using 10,000 bootstrap resamples. Assign the bounds to `upper` and `lower`. Make sure to assign the 10,000 resample statistics to the array `resamples_num_eligible`.\n",
    "\n",
    "*Hint: Do not redo the work you did in 1.3.3, otherwise your code will try to join two tables 10,000 times and run forever!*\n",
    "\n",
    "<!--\n",
    "BEGIN QUESTION\n",
    "name: q1_3_4\n",
    "-->"
   ]
  },
  {
   "cell_type": "code",
   "execution_count": 62,
   "metadata": {
    "deletable": false
   },
   "outputs": [],
   "source": [
    "resamples_num_eligible = ...\n",
    "reps = ...\n",
    "\n",
    "for i in np.arange(reps):\n",
    "    resample = ...\n",
    "    num_eligible = ...\n",
    "    resamples_num_eligible = ...\n",
    "\n",
    "lower = ...\n",
    "upper = ...\n",
    "\n",
    "# DON'T CHANGE THESE LINES OF CODE\n",
    "Table().with_column(\"Resample Values\", resamples_num_eligible).hist(0, bins=np.arange(0.5,45.5,1))\n",
    "plots.plot([lower,upper], [0,0], color=\"gold\", lw=10); # Plots the CI\n",
    "print(f\"95% CI: [{lower}, {upper}])\")"
   ]
  },
  {
   "cell_type": "code",
   "execution_count": null,
   "metadata": {
    "deletable": false,
    "editable": false
   },
   "outputs": [],
   "source": [
    "ok.grade(\"q1_3_4\");"
   ]
  },
  {
   "cell_type": "markdown",
   "metadata": {
    "deletable": false,
    "editable": false
   },
   "source": [
    "**Question 1.3.5:** Steve did the same exercise with his own class. To see if the number eligible in his class is statistically significant or not, which of the two histograms should he compare his number to and why?\n",
    "\n",
    "\n",
    "<!--\n",
    "BEGIN QUESTION\n",
    "name: q1_3_5\n",
    "manual: true\n",
    "-->\n",
    "<!-- EXPORT TO PDF -->"
   ]
  },
  {
   "cell_type": "markdown",
   "metadata": {
    "deletable": false,
    "export_pdf": true,
    "manual_grade": true
   },
   "source": [
    "*Write your answer here, replacing this text.*"
   ]
  },
  {
   "cell_type": "markdown",
   "metadata": {},
   "source": [
    "**Challenge:** Where do these birthdays come from? Post your guess on the Piazza thread for this section!"
   ]
  },
  {
   "cell_type": "markdown",
   "metadata": {},
   "source": [
    "# Part 2: Lifetime Earnings"
   ]
  },
  {
   "cell_type": "markdown",
   "metadata": {},
   "source": [
    "> \"A central question in the debate over military manpower policy is whether veterans are adequately compensated for their service. The political process clearly reflects the desire to compensate veterans: since World War II, millions of veterans have enjoyed benefits for medical care, education and training, housing, insurance, and job placement. Recent legislation provides additional benefits for veterans of the Vietnam era. Yet, academic research has not shown \n",
    "conclusively that Vietnam (or other) veterans are worse off economically than nonveterans\" (Angrist 1990)\n",
    "\n",
    "Are veterans \"adequately compensated\"? Can we identify any significant differences in earnings between veterans and non-veterans? This was the central focus of the classic paper [\"Lifetime Earnings and the Vietnam Era Draft Lottery: Evidence from Social Security Administrative Records\"](https://economics.mit.edu/faculty/angrist/data1/data/angrist90) by [Joshua Angrist](https://en.wikipedia.org/wiki/Joshua_Angrist). In the following section, we will try to use methods we have learned, including hypothesis testing and parameter estimation to investigate this question."
   ]
  },
  {
   "cell_type": "markdown",
   "metadata": {},
   "source": [
    "## Section 1: The Data"
   ]
  },
  {
   "cell_type": "markdown",
   "metadata": {},
   "source": [
    ">\"The original CWHS data set does not contain information on date of birth. SSA programmers matched date of birth variables to the CWHS in a special extract created for this project. Lottery numbers were then matched to dates of birth, using tables published in the 1969-73 Semiannual Reports of the Director of Selective Service. The Internal Revenue Service limits disclosure of data collected for tax purposes. To adhere to these disclosure requirements, the SSA could release only aggregate data. The aggregate data set contains sample statistics for cells defined by year of earnings, year of birth, race, and five consecutive lottery numbers. Cell statistics include means, variances, fraction with earnings equal to the taxable maximum, fraction with earnings above the taxable maximum, fraction with zero earnings, and number of observations in each cell.\" (Angrist 1990)\n",
    "\n",
    "Angrist collected data from the IRS (Internal Revenue Service-- the tax agency of the United States). The dataset in question is the CWHS: the Continuous Work History Sample, which is a sample of 1% of all eligible social security numbers. You can see what this table looks like by running the following cell."
   ]
  },
  {
   "cell_type": "code",
   "execution_count": 68,
   "metadata": {
    "deletable": false
   },
   "outputs": [],
   "source": [
    "cwhsb = Table.read_table(\"cwhsb.csv\").drop(0)\n",
    "cwhsb.show(5)"
   ]
  },
  {
   "cell_type": "markdown",
   "metadata": {
    "deletable": false,
    "editable": false
   },
   "source": [
    "**Question 2.1.1:** Each row in `cwhsb` represents tax info of about 200 people grouped by range of birth date (interval represents a group of 5 days of the year). Why do you think the IRS would aggregate the data instead of releasing info for each person individually in the sample?\n",
    "\n",
    "<!--\n",
    "BEGIN QUESTION\n",
    "name: q2_1_1\n",
    "manual: true\n",
    "-->\n",
    "<!-- EXPORT TO PDF -->"
   ]
  },
  {
   "cell_type": "markdown",
   "metadata": {
    "deletable": false,
    "export_pdf": true,
    "manual_grade": true
   },
   "source": [
    "*Write your answer here, replacing this text.*"
   ]
  },
  {
   "cell_type": "markdown",
   "metadata": {
    "deletable": false,
    "editable": false
   },
   "source": [
    "**Question 2.1.2:** How many people are represented in the `cwhsb` table? Assign that value to `total`. \n",
    "\n",
    "*Hint: The `vnu1` column tells you how many people each row corresponds to*\n",
    "<!--\n",
    "BEGIN QUESTION\n",
    "name: q2_1_2\n",
    "-->"
   ]
  },
  {
   "cell_type": "code",
   "execution_count": 69,
   "metadata": {
    "deletable": false
   },
   "outputs": [],
   "source": [
    "total = ...\n",
    "total"
   ]
  },
  {
   "cell_type": "code",
   "execution_count": null,
   "metadata": {
    "deletable": false,
    "editable": false
   },
   "outputs": [],
   "source": [
    "ok.grade(\"q2_1_2\");"
   ]
  },
  {
   "cell_type": "markdown",
   "metadata": {},
   "source": [
    "Angrist applies a number of filters on the data to limit the data to just men of the appropriate ages who were eligible to be drafted in any of the four draft lotteries. After applying these filters, the new table represents only 1,238,734 men. After reproducing these filters, our data is still aggregated data.   "
   ]
  },
  {
   "cell_type": "markdown",
   "metadata": {
    "deletable": false,
    "editable": false
   },
   "source": [
    "**Question 2.1.3:** Do you think using aggregated data or not-aggregated data would produce a more correct result for any hypothesis tests we perform?\n",
    "\n",
    "<!--\n",
    "BEGIN QUESTION\n",
    "name: q2_1_3\n",
    "manual: true\n",
    "-->\n",
    "<!-- EXPORT TO PDF -->"
   ]
  },
  {
   "cell_type": "markdown",
   "metadata": {
    "deletable": false,
    "export_pdf": true,
    "manual_grade": true
   },
   "source": [
    "*Write your answer here, replacing this text.*"
   ]
  },
  {
   "cell_type": "markdown",
   "metadata": {},
   "source": [
    "For the rest of this section we are going to use artificially disaggregated data. Here's how Yanay disaggregated the data:\n",
    "\n",
    "1. For each row in `cwshb`, he generated a corresponding number of rows in the new dataset with the same categorical variables (ie birth year, race, birthday interval etc) to represent each person aggregated in the `cwshb` row.\n",
    "2. For the earnings for each new row, he randomly generated a value for earnings from a distribution that had the same mean and standard deviation as specified for that group in the `cwshb` table. Since the `cwshb` table has info about proportions of people in a group who had 0 earnings, he made sure that a corresponding number of people have an earnings of \\$0 for that group in the new table.\n",
    "\n",
    "For example, for this row from the `cwhsb` table,\n",
    "\n",
    "![One Row](one_row_cwhsb.png)\n",
    "\n",
    "Yanay generated 190 rows, 30 of which have earnings of 0 (0.163 * 190 == 30). The distribution of earnings in these rows looks like this:\n",
    "\n",
    "![One Row Earnings](row_earnings.png)\n",
    "\n",
    "The 190 rows all correspond to white men born in 1950 who fall into birthday interval 1 (birthday interval 1 contains 5 birth dates that were all eligible to be drafted). The mean of the earnings generated is 9150.06 and the standard deviation is 5562.51, which is close to what was stated in the `cwshb` table (the vmn1 and vsd1 columns contain this info).\n",
    "\n",
    "The disaggregated rows are stored in the `earnings` table."
   ]
  },
  {
   "cell_type": "code",
   "execution_count": 71,
   "metadata": {
    "deletable": false
   },
   "outputs": [],
   "source": [
    "earnings = Table.read_table(\"disag.csv\")\n",
    "earnings.show(10)"
   ]
  },
  {
   "cell_type": "markdown",
   "metadata": {},
   "source": [
    "As stated, Yanay randomly generated the (non zero) earnings by sampling from a distribution with the mean and SD specified, but with a histogram that looks something like this (with appropriate mean and sd):\n",
    "\n",
    "![Curve Shape](shape_of_curve.png)"
   ]
  },
  {
   "cell_type": "markdown",
   "metadata": {
    "deletable": false,
    "editable": false
   },
   "source": [
    "**Question 2.1.4:** Do you think using this method of disaggregating data is completely accurate? Can you think of any ways it might bias our data, alter our  analysis, or introduce any inaccuracies?\n",
    "\n",
    "<!--\n",
    "BEGIN QUESTION\n",
    "name: q2_1_4\n",
    "-->"
   ]
  },
  {
   "cell_type": "markdown",
   "metadata": {
    "deletable": false,
    "manual_grade": true
   },
   "source": [
    "*Write your answer here, replacing this text.*"
   ]
  },
  {
   "cell_type": "markdown",
   "metadata": {},
   "source": [
    "## Section 2: Analysis"
   ]
  },
  {
   "cell_type": "markdown",
   "metadata": {},
   "source": [
    "In this section we will test the hypothesis that draft eligibility (ie one's birthdate being chosen in the lottery) had a negative impact on one's earnings.\n",
    "\n",
    "To make the data easier to use, in some parts we will use a random sample of 30000 rows from the earnings table instead of all 1.2 million."
   ]
  },
  {
   "cell_type": "code",
   "execution_count": 72,
   "metadata": {
    "deletable": false
   },
   "outputs": [],
   "source": [
    "np.random.seed(8)\n",
    "sample = earnings.sample(30000, with_replacement=False)\n",
    "sample.show(5), sample.hist(0, bins=np.arange(0, 80000, 10000));"
   ]
  },
  {
   "cell_type": "code",
   "execution_count": 73,
   "metadata": {
    "deletable": false
   },
   "outputs": [],
   "source": [
    "sample.hist(\"earnings\", group=\"eligible\",bins=np.arange(0, 80000, 10000));\n",
    "print(\"Table 1:\")\n",
    "sample.select(\"eligible\", \"earnings\", \"byr\").group(\"eligible\", np.mean).show()\n",
    "print(\"Table 2:\")\n",
    "sample.select(\"byr\", \"earnings\", \"eligible\").group(\"byr\", np.mean).show()"
   ]
  },
  {
   "cell_type": "markdown",
   "metadata": {
    "deletable": false,
    "editable": false
   },
   "source": [
    "**Question 2.2.1:** Table 1 seems to show us that lottery eligibile men had slightly higher earnings: based on Table 1 and Table 2, why do you think this is the case?\n",
    "\n",
    "*Hint: remember that the `byr` column is birth year, i.e. 50 is 1950.*\n",
    "\n",
    "<!--\n",
    "BEGIN QUESTION\n",
    "name: q2_2_1\n",
    "manual: true\n",
    "-->\n",
    "<!-- EXPORT TO PDF -->"
   ]
  },
  {
   "cell_type": "markdown",
   "metadata": {
    "deletable": false,
    "export_pdf": true,
    "manual_grade": true
   },
   "source": [
    "*Write your answer here, replacing this text.*"
   ]
  },
  {
   "cell_type": "markdown",
   "metadata": {},
   "source": [
    "Race also plays a factor in this dataset (see table 3 below). Unfortunately, the dataset is not very descriptive, and only has two options for race, white or non white. Non white is a very non-descriptive term for a huge, diverse group of people, and this may introduce a variety of confounding factors. So, for the purposes of this project we focus on the white population for which there exists clear historical records, and for which the Angrist paper investigated."
   ]
  },
  {
   "cell_type": "code",
   "execution_count": 74,
   "metadata": {
    "deletable": false
   },
   "outputs": [],
   "source": [
    "print(\"Table 3:\")\n",
    "sample.select(\"race\", \"earnings\", \"eligible\").group(\"race\", np.mean).show()"
   ]
  },
  {
   "cell_type": "code",
   "execution_count": 75,
   "metadata": {
    "deletable": false
   },
   "outputs": [],
   "source": [
    "sample.where(\"byr\", 50).where(\"race\", \"white\").hist(\"earnings\", group=\"eligible\",bins=np.arange(0, 80000, 10000));\n",
    "plots.title(\"Earnings for 1950 White men, by eligibility\");\n",
    "sample.where(\"byr\", 50).where(\"race\", \"white\").select(\"eligible\", \"earnings\").group(\"eligible\", np.mean).show()"
   ]
  },
  {
   "cell_type": "markdown",
   "metadata": {},
   "source": [
    "Let's take another sample, stored in `white_50` that contains a random sample of 2000 white men born in 1950 from the `earnings` table. We've given you some important summary statistics for the table as well."
   ]
  },
  {
   "cell_type": "code",
   "execution_count": 76,
   "metadata": {
    "deletable": false
   },
   "outputs": [],
   "source": [
    "white_50 = earnings.where(\"byr\", 50).where(\"race\", \"white\").sample(2000, with_replacement=False).drop(\"byr\", \"race\", \"interval\")\n",
    "white_50.show(5);\n",
    "white_50.group(\"eligible\", np.mean).show();\n",
    "white_50.group(\"eligible\").show();"
   ]
  },
  {
   "cell_type": "markdown",
   "metadata": {},
   "source": [
    "We want to check if earnings of the two groups, those eligible to be drafted and those not, come from the same distribution. Specifically, we want to check if those eligible to be drafted had lower earnings."
   ]
  },
  {
   "cell_type": "markdown",
   "metadata": {
    "deletable": false,
    "editable": false
   },
   "source": [
    "**Question 2.2.2:** What's our null hypothesis?\n",
    "<!--\n",
    "BEGIN QUESTION\n",
    "name: q2_2_2\n",
    "manual: true\n",
    "-->\n",
    "<!-- EXPORT TO PDF -->"
   ]
  },
  {
   "cell_type": "markdown",
   "metadata": {
    "deletable": false,
    "export_pdf": true,
    "manual_grade": true
   },
   "source": [
    "*Write your answer here, replacing this text.*"
   ]
  },
  {
   "cell_type": "markdown",
   "metadata": {
    "deletable": false,
    "editable": false
   },
   "source": [
    "**Question 2.2.3:** What's our alternative hypothesis?\n",
    "\n",
    "<!--\n",
    "BEGIN QUESTION\n",
    "name: q2_2_3\n",
    "manual: true\n",
    "-->\n",
    "<!-- EXPORT TO PDF -->"
   ]
  },
  {
   "cell_type": "markdown",
   "metadata": {
    "deletable": false,
    "export_pdf": true,
    "manual_grade": true
   },
   "source": [
    "*Write your answer here, replacing this text.*"
   ]
  },
  {
   "cell_type": "markdown",
   "metadata": {
    "deletable": false,
    "editable": false
   },
   "source": [
    "**Question 2.2.4:** Assign `choice_test_stat` to an integer corresponding to the number of the test statistic we could use to test this hypothesis.\n",
    "\n",
    "1. The difference in mean earnings of white men eligible to be drafted in 1950 and those who were not eligible\n",
    "2. The absolute difference in mean earnings of white men eligible to be drafted in 1950 and those who were not eligible\n",
    "3. The mean earnings of white mean eligible to be drafted in 1950\n",
    "4. The mean earnings of white mean eligible to be drafted in 1950 - 15168.5\n",
    "\n",
    "<!--\n",
    "BEGIN QUESTION\n",
    "name: q2_2_4    \n",
    "-->"
   ]
  },
  {
   "cell_type": "code",
   "execution_count": 77,
   "metadata": {
    "deletable": false
   },
   "outputs": [],
   "source": [
    "choice_test_stat = ..."
   ]
  },
  {
   "cell_type": "code",
   "execution_count": null,
   "metadata": {
    "deletable": false,
    "editable": false
   },
   "outputs": [],
   "source": [
    "ok.grade(\"q2_2_4\");"
   ]
  },
  {
   "cell_type": "markdown",
   "metadata": {
    "deletable": false,
    "editable": false
   },
   "source": [
    "**Question 2.2.5:** Define the function `test_stat` to return that test statistic for a given `tbl` like the white_50 table.\n",
    "\n",
    "<!--\n",
    "BEGIN QUESTION\n",
    "name: q2_2_5\n",
    "-->"
   ]
  },
  {
   "cell_type": "code",
   "execution_count": 81,
   "metadata": {
    "deletable": false
   },
   "outputs": [],
   "source": [
    "def test_stat(tbl):\n",
    "    grouped = ...\n",
    "    ...\n",
    "\n",
    "observed = ...\n",
    "observed"
   ]
  },
  {
   "cell_type": "code",
   "execution_count": null,
   "metadata": {
    "deletable": false,
    "editable": false
   },
   "outputs": [],
   "source": [
    "ok.grade(\"q2_2_5\");"
   ]
  },
  {
   "cell_type": "markdown",
   "metadata": {
    "deletable": false,
    "editable": false
   },
   "source": [
    "**Question 2.2.6:** Define the function `simulate_stat` that returns one value of the test statistic, simulated under the null hypothesis. \n",
    "\n",
    "<!--\n",
    "BEGIN QUESTION\n",
    "name: q2_2_6\n",
    "-->"
   ]
  },
  {
   "cell_type": "code",
   "execution_count": 84,
   "metadata": {
    "deletable": false
   },
   "outputs": [],
   "source": [
    "def simulate_stat():\n",
    "    shuffled_column = ...\n",
    "    shuffled_table = ...\n",
    "    ...\n",
    "\n",
    "simulate_stat()"
   ]
  },
  {
   "cell_type": "code",
   "execution_count": null,
   "metadata": {
    "deletable": false,
    "editable": false
   },
   "outputs": [],
   "source": [
    "ok.grade(\"q2_2_6\");"
   ]
  },
  {
   "cell_type": "markdown",
   "metadata": {
    "deletable": false,
    "editable": false
   },
   "source": [
    "**Question 2.2.7:** Plot a histogram of 250 simulated statistics under the null hypothesis.\n",
    "\n",
    "*Note: It may take some time for this cell to run*\n",
    "\n",
    "<!--\n",
    "BEGIN QUESTION\n",
    "name: q2_2_7\n",
    "manual: true\n",
    "-->\n",
    "<!-- EXPORT TO PDF -->"
   ]
  },
  {
   "cell_type": "code",
   "execution_count": 86,
   "metadata": {
    "deletable": false,
    "export_pdf": true
   },
   "outputs": [],
   "source": [
    "..."
   ]
  },
  {
   "cell_type": "markdown",
   "metadata": {
    "deletable": false,
    "editable": false
   },
   "source": [
    "**Question 2.2.8:** Calculate the `p_value` of the test and assign `reject` to `True` if we should reject the null hypothesis using a 5% p-value cutoff or `False` otherwise.\n",
    "\n",
    "<!--\n",
    "BEGIN QUESTION\n",
    "name: q2_2_8\n",
    "-->"
   ]
  },
  {
   "cell_type": "code",
   "execution_count": 87,
   "metadata": {
    "deletable": false,
    "scrolled": true
   },
   "outputs": [],
   "source": [
    "p_value = ...\n",
    "reject = ...\n",
    "\n",
    "print(f\"Calculated p-value to be {p_value}; Should we reject? {reject}\")"
   ]
  },
  {
   "cell_type": "code",
   "execution_count": null,
   "metadata": {
    "deletable": false,
    "editable": false
   },
   "outputs": [],
   "source": [
    "ok.grade(\"q2_2_8\");"
   ]
  },
  {
   "cell_type": "markdown",
   "metadata": {},
   "source": [
    "## Section 3: A  New Statistic"
   ]
  },
  {
   "cell_type": "markdown",
   "metadata": {},
   "source": [
    "Now let's test the same hypothesis using a new test statistic. This test statistic is called \"Rank sum\".\n",
    "\n",
    "What is a rank? A rank is the position of a value when you sort the entire dataset in ascending order, starting at 1. \n",
    "\n",
    "For example, let's say we have the data 5, 8, 9, 7. The corresponding ranks are 1, 3, 4, 2, because the sorted data set is 5, 8, 9, 7.\n",
    "\n",
    "We do have to worry about breaking ties for this dataset, because we have many zeros.\n",
    "\n",
    "To break ties, we assign all values that are equal to the same rank. To do this, we must\n",
    "\n",
    "1. Get a list of all the unique values\n",
    "2. Sort that list in ascending order\n",
    "3. Rank that list starting at 1\n",
    "4. Assign those ranks back to the original data\n",
    "\n",
    "For the data 6, 6, 7, 5, we get ranks 2, 2, 3, 1. For 0, 0, 0, 15.8, 12.6 we get 1, 1, 1, 3, 2.\n",
    "\n",
    "The **rank sum** for a group within a dataset is equal to the sum of all the ranks of the values **within that group**.\n",
    "\n",
    "We will use the rank sum for those eligible to be drafted as our new statistic.\n",
    "\n",
    "*Note: Our alternative hypothesis is actually a bit different now, as we aren't concerned with the average, rather we are concerned with the rank sum, but this shouldn't affect your work.*"
   ]
  },
  {
   "cell_type": "markdown",
   "metadata": {
    "deletable": false,
    "editable": false
   },
   "source": [
    "**Question 2.3.1:** Consider two samples:\n",
    "\n",
    "|Sample 1| Sample 2|\n",
    "|---------|------|\n",
    "|1|3|\n",
    "|2|4|\n",
    "|10|6|\n",
    "\n",
    "And their corresponding statistic values:\n",
    "\n",
    "|Sample | Mean | Rank Sum |\n",
    "|--------|-----|----------|\n",
    "|Sample 1|4.333|9|\n",
    "|Sample 2| 4.333| 12|\n",
    "\n",
    "How might this Rank Sum statistic help us determine differences in numerical distributions in ways that the mean cannot? In your answer, make sure to specifically reference the provided samples.\n",
    "\n",
    "<!--\n",
    "BEGIN QUESTION\n",
    "name: q2_3_1\n",
    "manual: true\n",
    "-->\n",
    "<!-- EXPORT TO PDF -->"
   ]
  },
  {
   "cell_type": "markdown",
   "metadata": {
    "export_pdf": true,
    "manual_grade": true
   },
   "source": [
    "*Write your answer here, replacing this text.*"
   ]
  },
  {
   "cell_type": "markdown",
   "metadata": {
    "deletable": false,
    "editable": false
   },
   "source": [
    "**Question 2.3.2:** Which values of the rank sum statistic correspond to our alternative hypothesis that those who were eligible (white men born in 1950 who had their birthday chosen) had a lower income?\n",
    "\n",
    "1. Larger Positive Values\n",
    "2. Smaller Positive Values\n",
    "\n",
    "Assign `which_direction` to either `1` or `2`.\n",
    "\n",
    "<!--\n",
    "BEGIN QUESTION\n",
    "name: q2_3_2\n",
    "-->"
   ]
  },
  {
   "cell_type": "code",
   "execution_count": 92,
   "metadata": {
    "deletable": false
   },
   "outputs": [],
   "source": [
    "which_direction = ..."
   ]
  },
  {
   "cell_type": "code",
   "execution_count": null,
   "metadata": {
    "deletable": false,
    "editable": false
   },
   "outputs": [],
   "source": [
    "ok.grade(\"q2_3_2\");"
   ]
  },
  {
   "cell_type": "markdown",
   "metadata": {
    "deletable": false,
    "editable": false
   },
   "source": [
    "**Question 2.3.3:** Implement the function `rank_sum_stat` that takes in a `tbl` like `white_50` and returns the rank sum for the eligible group's earnings.\n",
    "\n",
    "To answer this question, define the function `tbl_with_ranks` that takes in any `tbl`, and a string `col` and returns a new table, sorted by `col` in ascending order, with a column called `Rank` that contains the ranks for the corresponding row, ranked by the values in `col`.\n",
    "\n",
    "*Hint 1: ranks start at 1 and go up by 1 each value*\n",
    "\n",
    "*Hint 2: make sure to rank all the data at the same time, and then just sum the ranks for the eligible group*\n",
    "\n",
    "*Hint 3: remember that the group function combines equal values, including equal numerical values!*\n",
    "\n",
    "*Hint 4: after you get the unique values, how could the join function be helpful?*\n",
    "\n",
    "<!--\n",
    "BEGIN QUESTION\n",
    "name: q2_3_3\n",
    "-->"
   ]
  },
  {
   "cell_type": "code",
   "execution_count": 95,
   "metadata": {
    "deletable": false
   },
   "outputs": [],
   "source": [
    "def tbl_with_ranks(tbl, col):\n",
    "    unique_values = ...\n",
    "    sorted_unique_values = ...\n",
    "    unique_ranks_arr = ...\n",
    "    sorted_unique_with_ranks = ...\n",
    "    \n",
    "    original_table_with_unique_ranks = ...\n",
    "    return original_table_with_unique_ranks.sort(col)\n",
    "\n",
    "def rank_sum_test(tbl):\n",
    "    tbl_and_ranks = tbl_with_ranks(tbl, \"earnings\")\n",
    "    rank_sums = ...\n",
    "    ...\n",
    "\n",
    "observed_rank_sum = ...\n",
    "observed_rank_sum"
   ]
  },
  {
   "cell_type": "code",
   "execution_count": null,
   "metadata": {
    "deletable": false,
    "editable": false
   },
   "outputs": [],
   "source": [
    "ok.grade(\"q2_3_3\");"
   ]
  },
  {
   "cell_type": "markdown",
   "metadata": {
    "deletable": false,
    "editable": false
   },
   "source": [
    "**Question 2.3.4:** Define the function `simulate_rank_sum_stat` that returns one value of the rank sum test statistic, simulated under the null hypothesis.    \n",
    "\n",
    "<!--\n",
    "BEGIN QUESTION\n",
    "name: q2_3_4\n",
    "-->"
   ]
  },
  {
   "cell_type": "code",
   "execution_count": 101,
   "metadata": {
    "deletable": false,
    "scrolled": true
   },
   "outputs": [],
   "source": [
    "def simulate_rank_sum_stat():\n",
    "    shuffled_column = ...\n",
    "    shuffled_table = ...\n",
    "    ...\n",
    "\n",
    "simulate_rank_sum_stat()"
   ]
  },
  {
   "cell_type": "code",
   "execution_count": null,
   "metadata": {
    "deletable": false,
    "editable": false
   },
   "outputs": [],
   "source": [
    "ok.grade(\"q2_3_4\");"
   ]
  },
  {
   "cell_type": "markdown",
   "metadata": {
    "deletable": false,
    "editable": false
   },
   "source": [
    "**Question 2.3.5:** Plot a histogram of 100 simulated rank sum statistics under the null hypothesis.\n",
    "\n",
    "*Note this may take some time to run*\n",
    "\n",
    "<!--\n",
    "BEGIN QUESTION\n",
    "name: q2_3_5\n",
    "manual: true\n",
    "-->\n",
    "<!-- EXPORT TO PDF -->"
   ]
  },
  {
   "cell_type": "code",
   "execution_count": 103,
   "metadata": {
    "deletable": false,
    "export_pdf": true,
    "scrolled": true
   },
   "outputs": [],
   "source": [
    "..."
   ]
  },
  {
   "cell_type": "markdown",
   "metadata": {
    "deletable": false,
    "editable": false
   },
   "source": [
    "**Question 2.3.6:** Assign `p_value_rank` to the p-value of of the rank sum test and assign `reject_rank` to `True` if we should reject the null hypothesis using a 5% p-value cutoff or `False` otherwise.\n",
    "\n",
    "<!--\n",
    "BEGIN QUESTION\n",
    "name: q2_3_6\n",
    "-->"
   ]
  },
  {
   "cell_type": "code",
   "execution_count": 104,
   "metadata": {
    "deletable": false
   },
   "outputs": [],
   "source": [
    "p_value_rank = ...\n",
    "reject_rank = ...\n",
    "\n",
    "print(f\"Calculated p-value to be {p_value_rank}; Should we reject? {reject_rank}\")"
   ]
  },
  {
   "cell_type": "code",
   "execution_count": null,
   "metadata": {
    "deletable": false,
    "editable": false
   },
   "outputs": [],
   "source": [
    "ok.grade(\"q2_3_6\");"
   ]
  },
  {
   "cell_type": "markdown",
   "metadata": {
    "deletable": false,
    "editable": false
   },
   "source": [
    "**Question 2.3.7:** Angrist found that:\n",
    "\n",
    ">\"Estimates based on the draft lottery indicate that as much as ten years after their\n",
    "discharge from service, white veterans who\n",
    "served at the close of the Vietnam era earned\n",
    "substantially less than nonveterans. The annual earnings loss to white veterans is on the\n",
    "order of $3,500 current dollars, or roughly\n",
    "15 percent of yearly wage and salary earnings in the early 1980s. In contrast, the estimated veteran effects for nonwhites are not\n",
    "statistically significant\"\n",
    "\n",
    "Angrist used different methods (some of which we will learn about in the coming weeks). Using our methods, are we able to duplicate Angrist's findings? Do you think our findings invalidate Angrist's conclusions? Do Angrist's findings invalidate the methods we have taught you?\n",
    "\n",
    "<!--\n",
    "BEGIN QUESTION\n",
    "name: q2_3_7\n",
    "manual: true\n",
    "-->\n",
    "<!-- EXPORT TO PDF -->"
   ]
  },
  {
   "cell_type": "markdown",
   "metadata": {
    "deletable": false,
    "export_pdf": true,
    "manual_grade": true
   },
   "source": [
    "*Write your answer here, replacing this text.*"
   ]
  },
  {
   "cell_type": "markdown",
   "metadata": {},
   "source": [
    "**You're finished!** Congratulations on mastering* hypothesis testing and bootstrapping. Time to submit."
   ]
  },
  {
   "cell_type": "markdown",
   "metadata": {},
   "source": [
    "## Submission"
   ]
  },
  {
   "cell_type": "markdown",
   "metadata": {},
   "source": [
    "Once you're finished, select \"Save and Checkpoint\" in the File menu and then execute the `submit` cell below. The result will contain a link that you can use to check that your assignment has been submitted successfully. **IMPORTANT: Make sure to check that your submission is not empty. We cannot guarantee that the submission will be valid, so please check it now.** If you submit more than once before the deadline, we will only grade your final submission. If you mistakenly submit the wrong one, you can head to [okpy.org](https://okpy.org/) and flag the correct version. To do so, go to the website, click on this assignment, and find the version you would like to have graded. There should be an option to flag that submission for grading!\n",
    "\n",
    "**NOTE:** The tests that are provided are not comprehensive and act as sanity checks (i.e. to make sure you answer is in the correct form, etc.). Passing the tests for a question does not mean that you answered the question correctly."
   ]
  },
  {
   "cell_type": "code",
   "execution_count": 109,
   "metadata": {},
   "outputs": [],
   "source": [
    "_ = ok.submit()"
   ]
  },
  {
   "cell_type": "code",
   "execution_count": 110,
   "metadata": {
    "collapsed": true,
    "jupyter": {
     "outputs_hidden": true
    }
   },
   "outputs": [],
   "source": [
    "# For your convenience, you can run this cell to run all the tests at once!\n",
    "import os\n",
    "print(\"Running all tests...\")\n",
    "_ = [ok.grade(q[:-3]) for q in os.listdir(\"tests\") if q.startswith('q') and len(q) <= 10]\n",
    "print(\"Finished running all tests.\")"
   ]
  }
 ],
 "metadata": {
  "kernelspec": {
   "display_name": "Python 3",
   "language": "python",
   "name": "python3"
  },
  "language_info": {
   "codemirror_mode": {
    "name": "ipython",
    "version": 3
   },
   "file_extension": ".py",
   "mimetype": "text/x-python",
   "name": "python",
   "nbconvert_exporter": "python",
   "pygments_lexer": "ipython3",
   "version": "3.8.5"
  }
 },
 "nbformat": 4,
 "nbformat_minor": 4
}
