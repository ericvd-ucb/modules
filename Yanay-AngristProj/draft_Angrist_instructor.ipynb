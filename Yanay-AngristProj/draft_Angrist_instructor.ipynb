{
 "cells": [
  {
   "cell_type": "code",
   "execution_count": 1,
   "metadata": {},
   "outputs": [],
   "source": [
    "# Run this cell to set up the notebook, but please don't change it.\n",
    "\n",
    "from datascience import *\n",
    "import numpy as np\n",
    "\n",
    "%matplotlib inline\n",
    "import matplotlib.pyplot as plots\n",
    "plots.style.use('fivethirtyeight')\n",
    "np.set_printoptions(legacy='1.13')\n",
    "\n",
    "import warnings\n",
    "warnings.simplefilter('ignore')"
   ]
  },
  {
   "cell_type": "markdown",
   "metadata": {},
   "source": [
    "# Background\n",
    "\"The Vietnam War (Vietnamese: Chiến tranh Việt Nam), also known as the Second Indochina War, and in Vietnam as the Resistance War Against America (Vietnamese: Kháng chiến chống Mỹ) or simply the American War, was a conflict in Vietnam, Laos, and Cambodia from 1 November 1955 to the fall of Saigon on 30 April 1975.\" - Wikipedia.\n",
    "\n",
    "The Vietnam War was the last war in which the United States employed a policy of conscription—\"the compulsory induction of individuals into the Armed Services\". Conscription means you are forced to join the military under certain legal penalties. \n",
    "\n",
    "Men are chosen to be conscripted by the \"draft\".\n",
    "\n",
    "This assignment is in part inspired by an assignment from Professor Yun S. Song's STAT 135 class."
   ]
  },
  {
   "cell_type": "markdown",
   "metadata": {},
   "source": [
    "# Part 1: The 1969 Draft Lottery\n",
    "The first draft of the Vietnam War took place on December 1st, 1969. Men aged 19-26, born in 1944-1950, were eligible to be drafted. 366 plastic lottery balls, representing every day of the year, and the leap day February 29th, were placed into an urn and selected one at a time and the order was recorded. For the 1969 lottery, all men with birthdays whose corresponding lottery balls were selected 195th or lower were drafted\\*.\n",
    "\n",
    "\\*drafted in this case means \"classified as available for military service, were called to report for possible induction.\""
   ]
  },
  {
   "cell_type": "markdown",
   "metadata": {},
   "source": [
    "Run the following cell to load in the `lotto` table.\n",
    "\n",
    "The `lotto` table was sourced from [randomservices.org](https://www.randomservices.org/random/data/Draft.html)."
   ]
  },
  {
   "cell_type": "code",
   "execution_count": 2,
   "metadata": {
    "deletable": false
   },
   "outputs": [
    {
     "data": {
      "text/html": [
       "<table border=\"1\" class=\"dataframe\">\n",
       "    <thead>\n",
       "        <tr>\n",
       "            <th>M</th> <th>D</th> <th>N69</th> <th>N70</th> <th>N71</th> <th>N72</th>\n",
       "        </tr>\n",
       "    </thead>\n",
       "    <tbody>\n",
       "        <tr>\n",
       "            <td>1   </td> <td>1   </td> <td>305 </td> <td>133 </td> <td>207 </td> <td>150 </td>\n",
       "        </tr>\n",
       "        <tr>\n",
       "            <td>1   </td> <td>2   </td> <td>159 </td> <td>195 </td> <td>225 </td> <td>328 </td>\n",
       "        </tr>\n",
       "        <tr>\n",
       "            <td>1   </td> <td>3   </td> <td>251 </td> <td>336 </td> <td>246 </td> <td>42  </td>\n",
       "        </tr>\n",
       "        <tr>\n",
       "            <td>1   </td> <td>4   </td> <td>215 </td> <td>99  </td> <td>264 </td> <td>28  </td>\n",
       "        </tr>\n",
       "        <tr>\n",
       "            <td>1   </td> <td>5   </td> <td>101 </td> <td>33  </td> <td>265 </td> <td>338 </td>\n",
       "        </tr>\n",
       "        <tr>\n",
       "            <td>1   </td> <td>6   </td> <td>224 </td> <td>285 </td> <td>242 </td> <td>36  </td>\n",
       "        </tr>\n",
       "        <tr>\n",
       "            <td>1   </td> <td>7   </td> <td>306 </td> <td>159 </td> <td>292 </td> <td>111 </td>\n",
       "        </tr>\n",
       "        <tr>\n",
       "            <td>1   </td> <td>8   </td> <td>199 </td> <td>116 </td> <td>287 </td> <td>206 </td>\n",
       "        </tr>\n",
       "        <tr>\n",
       "            <td>1   </td> <td>9   </td> <td>194 </td> <td>53  </td> <td>338 </td> <td>197 </td>\n",
       "        </tr>\n",
       "        <tr>\n",
       "            <td>1   </td> <td>10  </td> <td>325 </td> <td>101 </td> <td>231 </td> <td>37  </td>\n",
       "        </tr>\n",
       "    </tbody>\n",
       "</table>\n",
       "<p>... (356 rows omitted)</p>"
      ],
      "text/plain": [
       "M    | D    | N69  | N70  | N71  | N72\n",
       "1    | 1    | 305  | 133  | 207  | 150\n",
       "1    | 2    | 159  | 195  | 225  | 328\n",
       "1    | 3    | 251  | 336  | 246  | 42\n",
       "1    | 4    | 215  | 99   | 264  | 28\n",
       "1    | 5    | 101  | 33   | 265  | 338\n",
       "1    | 6    | 224  | 285  | 242  | 36\n",
       "1    | 7    | 306  | 159  | 292  | 111\n",
       "1    | 8    | 199  | 116  | 287  | 206\n",
       "1    | 9    | 194  | 53   | 338  | 197\n",
       "1    | 10   | 325  | 101  | 231  | 37\n",
       "... (356 rows omitted)"
      ]
     },
     "execution_count": 2,
     "metadata": {},
     "output_type": "execute_result"
    }
   ],
   "source": [
    "# Read in the data\n",
    "lotto = Table.read_table(\"lottery.tsv\", sep=\"\\t\")\n",
    "lotto"
   ]
  },
  {
   "cell_type": "markdown",
   "metadata": {},
   "source": [
    "The `lotto` table contains the columns `M` and `D` corresponding to the month and day of the birthdays on the lottery balls, and a column for each draft that contains the order that the birthday was drawn in each of the four draft lotteries. For this section we are only interested in the \\`69 draft which would be the `N69` column."
   ]
  },
  {
   "cell_type": "markdown",
   "metadata": {},
   "source": [
    "## Section 1: Investigating December\n",
    "Let's check to see if the 1969 lottery process was truly random and fair.\n",
    "\n",
    "The `lotto69` table has only the columns from the `lotto` table pertinent to the 1969 draft."
   ]
  },
  {
   "cell_type": "code",
   "execution_count": 3,
   "metadata": {
    "deletable": false
   },
   "outputs": [],
   "source": [
    "lotto69 = lotto.select(\"M\", \"D\", \"N69\")"
   ]
  },
  {
   "cell_type": "markdown",
   "metadata": {},
   "source": [
    "**Question 1.1.1:** Let's investigate the data visually first. Draw a scatter plot of draft number vs month.\n",
    "\n",
    "*Note: although month is a categorical value we are using it as a numerical value for the sake of this plot.*\n",
    "\n",
    "```\n",
    "BEGIN QUESTION\n",
    "name: q1_1_1\n",
    "manual: true\n",
    "```"
   ]
  },
  {
   "cell_type": "code",
   "execution_count": 4,
   "metadata": {
    "deletable": false
   },
   "outputs": [
    {
     "data": {
      "image/png": "[encoded data removed]",
      "text/plain": [
       "<Figure size 360x360 with 1 Axes>"
      ]
     },
     "metadata": {},
     "output_type": "display_data"
    }
   ],
   "source": [
    "lotto69.scatter(\"M\", \"N69\") # SOLUTION"
   ]
  },
  {
   "cell_type": "markdown",
   "metadata": {},
   "source": [
    "**Question 1.1.2:** It's a bit hard to tell what's happening in that plot. Aggregate the data and plot a bar chart of the average draft number vs month.\n",
    "\n",
    "```\n",
    "BEGIN QUESTION\n",
    "name: q1_1_2\n",
    "manual: true\n",
    "```"
   ]
  },
  {
   "cell_type": "code",
   "execution_count": 5,
   "metadata": {
    "deletable": false
   },
   "outputs": [
    {
     "data": {
      "image/png": "[encoded data removed]",
      "text/plain": [
       "<Figure size 432x432 with 1 Axes>"
      ]
     },
     "metadata": {},
     "output_type": "display_data"
    }
   ],
   "source": [
    "lotto69.group(\"M\", np.mean).barh(\"M\", \"N69 mean\") # SOLUTION"
   ]
  },
  {
   "cell_type": "markdown",
   "metadata": {},
   "source": [
    "It seems that December (month 12) has a lower average draft number than the other months."
   ]
  },
  {
   "cell_type": "markdown",
   "metadata": {},
   "source": [
    "**Question 1.1.3:** How many birthdays in December were chosen to be drafted? Recall that if your lottery number was less than or equal to 195, you would be drafted.\n",
    "\n",
    "```\n",
    "BEGIN QUESTION\n",
    "name: q1_1_3\n",
    "```"
   ]
  },
  {
   "cell_type": "code",
   "execution_count": 6,
   "metadata": {
    "deletable": false
   },
   "outputs": [
    {
     "data": {
      "text/plain": [
       "26"
      ]
     },
     "execution_count": 6,
     "metadata": {},
     "output_type": "execute_result"
    }
   ],
   "source": [
    "num_drafted = lotto69.where(\"N69\", are.below_or_equal_to(195)).where(\"M\", 12).num_rows # SOLUTION\n",
    "num_drafted"
   ]
  },
  {
   "cell_type": "code",
   "execution_count": 7,
   "metadata": {},
   "outputs": [
    {
     "data": {
      "text/plain": [
       "True"
      ]
     },
     "execution_count": 7,
     "metadata": {},
     "output_type": "execute_result"
    }
   ],
   "source": [
    "# TEST\n",
    "# Make sure your answer is a number\n",
    "0 <= num_drafted <= 31"
   ]
  },
  {
   "cell_type": "code",
   "execution_count": 8,
   "metadata": {},
   "outputs": [
    {
     "data": {
      "text/plain": [
       "True"
      ]
     },
     "execution_count": 8,
     "metadata": {},
     "output_type": "execute_result"
    }
   ],
   "source": [
    "# HIDDEN TEST\n",
    "num_drafted == 26"
   ]
  },
  {
   "cell_type": "markdown",
   "metadata": {},
   "source": [
    "We will perform a hypothesis test to check if this high number of birthdays selected in December, 1969, is statistically significant: was the lottery truly random?"
   ]
  },
  {
   "cell_type": "markdown",
   "metadata": {},
   "source": [
    "**Question 1.1.4:** What is our null hypothesis?\n",
    "```\n",
    "BEGIN QUESTION\n",
    "name: q1_1_4\n",
    "manual: true\n",
    "```"
   ]
  },
  {
   "cell_type": "markdown",
   "metadata": {
    "deletable": false,
    "manual_grade": true
   },
   "source": [
    "**SOLUTION:** Each birthday had an equal likelihood of being picked, the number of birthdays selected in December was due to chance."
   ]
  },
  {
   "cell_type": "markdown",
   "metadata": {},
   "source": [
    "**Question 1.1.5:** What is our alternative hypothesis?\n",
    "```\n",
    "BEGIN QUESTION\n",
    "name: q1_1_5\n",
    "manual: true\n",
    "```"
   ]
  },
  {
   "cell_type": "markdown",
   "metadata": {
    "deletable": false,
    "manual_grade": true
   },
   "source": [
    "**SOLUTION:** Birthdays in December were more likely to be selected."
   ]
  },
  {
   "cell_type": "markdown",
   "metadata": {},
   "source": [
    "The test statistic we will use is the number of birthdays selected in December."
   ]
  },
  {
   "cell_type": "markdown",
   "metadata": {},
   "source": [
    "**Question 1.1.6:** Fill out the function `statistic` that returns one value of our test statistic given an array of draft numbers for the 31 days in December.\n",
    "\n",
    "```\n",
    "BEGIN QUESTION\n",
    "name: q1_1_6\n",
    "```"
   ]
  },
  {
   "cell_type": "code",
   "execution_count": 9,
   "metadata": {
    "deletable": false
   },
   "outputs": [
    {
     "data": {
      "text/plain": [
       "26"
      ]
     },
     "execution_count": 9,
     "metadata": {},
     "output_type": "execute_result"
    }
   ],
   "source": [
    "def statistic(dec_array):\n",
    "    return np.count_nonzero(dec_array <= 195) # SOLUTION\n",
    "\n",
    "obs_test_stat = statistic(lotto69.where(\"M\", 12).column(\"N69\")) # SOLUTION\n",
    "obs_test_stat"
   ]
  },
  {
   "cell_type": "code",
   "execution_count": 10,
   "metadata": {},
   "outputs": [
    {
     "data": {
      "text/plain": [
       "True"
      ]
     },
     "execution_count": 10,
     "metadata": {},
     "output_type": "execute_result"
    }
   ],
   "source": [
    "# TEST \n",
    "# Your observed test statistic should be the same as what you found in question 3\n",
    "obs_test_stat == num_drafted"
   ]
  },
  {
   "cell_type": "code",
   "execution_count": 11,
   "metadata": {},
   "outputs": [
    {
     "data": {
      "text/plain": [
       "True"
      ]
     },
     "execution_count": 11,
     "metadata": {},
     "output_type": "execute_result"
    }
   ],
   "source": [
    "# HIDDEN TEST\n",
    "statistic(make_array(195, 196, 194)) == 2"
   ]
  },
  {
   "cell_type": "markdown",
   "metadata": {},
   "source": [
    "**Question 1.1.7:** Fill out the function `simulate` to simulate one sample under the null hypothesis and return a value of our test statistic. \n",
    "\n",
    "*Hint 1: Draft numbers start at 1!*\n",
    "\n",
    "*Hint 2: Remember that leap year birthdays are included!*\n",
    "\n",
    "```\n",
    "BEGIN QUESTION\n",
    "name: q1_1_7\n",
    "```"
   ]
  },
  {
   "cell_type": "code",
   "execution_count": 12,
   "metadata": {
    "deletable": false
   },
   "outputs": [
    {
     "data": {
      "text/plain": [
       "18"
      ]
     },
     "execution_count": 12,
     "metadata": {},
     "output_type": "execute_result"
    }
   ],
   "source": [
    "# These should be useful!\n",
    "num_days_dec = 31 \n",
    "possible_draft_numbers = np.arange(1, 367) # SOLUTION\n",
    "\n",
    "def simulate():\n",
    "    sample_dec_array = np.random.choice(possible_draft_numbers, num_days_dec, replace=False) # SOLUTION\n",
    "    return statistic(sample_dec_array) # SOLUTION\n",
    "\n",
    "simulate()"
   ]
  },
  {
   "cell_type": "code",
   "execution_count": 13,
   "metadata": {},
   "outputs": [
    {
     "data": {
      "text/plain": [
       "True"
      ]
     },
     "execution_count": 13,
     "metadata": {},
     "output_type": "execute_result"
    }
   ],
   "source": [
    "# TEST\n",
    "# Remember leap years!\n",
    "len(possible_draft_numbers) == 366"
   ]
  },
  {
   "cell_type": "code",
   "execution_count": 14,
   "metadata": {},
   "outputs": [
    {
     "data": {
      "text/plain": [
       "True"
      ]
     },
     "execution_count": 14,
     "metadata": {},
     "output_type": "execute_result"
    }
   ],
   "source": [
    "# TEST\n",
    "# Your function should return a value of the test statistic\n",
    "0 <= simulate() <= 31"
   ]
  },
  {
   "cell_type": "code",
   "execution_count": 15,
   "metadata": {},
   "outputs": [
    {
     "data": {
      "text/plain": [
       "True"
      ]
     },
     "execution_count": 15,
     "metadata": {},
     "output_type": "execute_result"
    }
   ],
   "source": [
    "# TEST \n",
    "# Your function has no randomness\n",
    "np.std([simulate() for i in np.arange(10)]) > 0"
   ]
  },
  {
   "cell_type": "markdown",
   "metadata": {},
   "source": [
    "**Question 1.1.8:** Simulate and store 10000 values of the test statistic in the array `test_stats` and draw a histogram of the values.\n",
    "\n",
    "```\n",
    "BEGIN QUESTION\n",
    "name: q1_1_8\n",
    "manual: true\n",
    "```"
   ]
  },
  {
   "cell_type": "code",
   "execution_count": 16,
   "metadata": {
    "deletable": false
   },
   "outputs": [
    {
     "data": {
      "image/png": "[encoded data removed]",
      "text/plain": [
       "<Figure size 432x288 with 1 Axes>"
      ]
     },
     "metadata": {},
     "output_type": "display_data"
    }
   ],
   "source": [
    "test_stats = make_array() # SOLUTION\n",
    "reps = 10000 # SOLUTION\n",
    "\n",
    "# BEGIN SOLUTION\n",
    "for i in np.arange(reps):\n",
    "    one_stat = simulate()\n",
    "    test_stats = np.append(test_stats, one_stat)\n",
    "# END SOLUTION\n",
    "\n",
    "Table().with_columns(\"Simulated Statistics\", test_stats).hist(\"Simulated Statistics\")"
   ]
  },
  {
   "cell_type": "markdown",
   "metadata": {},
   "source": [
    "**Question 1.1.9:** Compute the p-value of the hypothesis test and assign it to `dec_p_val`.\n",
    "\n",
    "```\n",
    "BEGIN QUESTION\n",
    "name: q1_1_9\n",
    "```"
   ]
  },
  {
   "cell_type": "code",
   "execution_count": 17,
   "metadata": {
    "deletable": false
   },
   "outputs": [
    {
     "data": {
      "text/plain": [
       "0.0001"
      ]
     },
     "execution_count": 17,
     "metadata": {},
     "output_type": "execute_result"
    }
   ],
   "source": [
    "dec_p_val = np.count_nonzero(test_stats >= obs_test_stat) / reps # SOLUTION\n",
    "dec_p_val"
   ]
  },
  {
   "cell_type": "code",
   "execution_count": 18,
   "metadata": {},
   "outputs": [
    {
     "data": {
      "text/plain": [
       "True"
      ]
     },
     "execution_count": 18,
     "metadata": {},
     "output_type": "execute_result"
    }
   ],
   "source": [
    "# TEST\n",
    "# A p-value is a proportion\n",
    "0 <= dec_p_val <= 1.0"
   ]
  },
  {
   "cell_type": "code",
   "execution_count": 19,
   "metadata": {},
   "outputs": [
    {
     "data": {
      "text/plain": [
       "True"
      ]
     },
     "execution_count": 19,
     "metadata": {},
     "output_type": "execute_result"
    }
   ],
   "source": [
    "# HIDDEN TEST\n",
    "dec_p_val <= 0.0015"
   ]
  },
  {
   "cell_type": "markdown",
   "metadata": {},
   "source": [
    "**Question 1.1.10:** According to the [New York Times](https://www.nytimes.com/1970/01/04/archives/statisticians-charge-draft-lottery-was-not-random.html), \n",
    "> \"draft officials acknowledge, the capsules with the later months were not mixed as thoroughly as those of the earlier months.\" \n",
    "\n",
    "Using a p-value cutoff of 5%, assign `reject_dec` to a boolean expression that evaluates to `True` if we should reject the null hypothesis and `False` if we fail to.\n",
    "\n",
    "```\n",
    "BEGIN QUESTION\n",
    "name: q1_1_10\n",
    "```"
   ]
  },
  {
   "cell_type": "code",
   "execution_count": 20,
   "metadata": {
    "deletable": false
   },
   "outputs": [
    {
     "data": {
      "text/plain": [
       "True"
      ]
     },
     "execution_count": 20,
     "metadata": {},
     "output_type": "execute_result"
    }
   ],
   "source": [
    "reject_dec = dec_p_val <= 0.05 # SOLUTION\n",
    "reject_dec"
   ]
  },
  {
   "cell_type": "code",
   "execution_count": 21,
   "metadata": {},
   "outputs": [
    {
     "data": {
      "text/plain": [
       "True"
      ]
     },
     "execution_count": 21,
     "metadata": {},
     "output_type": "execute_result"
    }
   ],
   "source": [
    "# TEST\n",
    "# reject should be a boolean\n",
    "type(reject_dec) == bool or type(reject_dec) == np.bool_"
   ]
  },
  {
   "cell_type": "code",
   "execution_count": 22,
   "metadata": {},
   "outputs": [
    {
     "data": {
      "text/plain": [
       "True"
      ]
     },
     "execution_count": 22,
     "metadata": {},
     "output_type": "execute_result"
    }
   ],
   "source": [
    "# HIDDEN TEST\n",
    "reject_dec == True"
   ]
  },
  {
   "cell_type": "markdown",
   "metadata": {},
   "source": [
    "## Section 2: The Other Months"
   ]
  },
  {
   "cell_type": "markdown",
   "metadata": {},
   "source": [
    "It appears that December had some issues in the lottery, but what about the other months? For each month let's test a slightly different hypothesis, not that the number drafted in that month is too high, but that it is either too high or too low."
   ]
  },
  {
   "cell_type": "markdown",
   "metadata": {},
   "source": [
    "**Question 1.2.1:** Define the function `new_stat` that computes the value for our new test statistic given `prop_selected`, the proportion of days in the month selected in a sample. Our new test statistic is the absolute difference between the sample proportion selected and the expected proportion selected.\n",
    "\n",
    "```\n",
    "BEGIN QUESTION\n",
    "name: q1_2_1\n",
    "```"
   ]
  },
  {
   "cell_type": "code",
   "execution_count": 23,
   "metadata": {
    "deletable": false
   },
   "outputs": [
    {
     "data": {
      "text/plain": [
       "0.3059227921734532"
      ]
     },
     "execution_count": 23,
     "metadata": {},
     "output_type": "execute_result"
    }
   ],
   "source": [
    "def new_stat(prop_selected):\n",
    "    return abs(prop_selected - 195/366) # SOLUTION\n",
    "\n",
    "dec_new_stat = new_stat(26/31)\n",
    "dec_new_stat"
   ]
  },
  {
   "cell_type": "code",
   "execution_count": 24,
   "metadata": {},
   "outputs": [
    {
     "data": {
      "text/plain": [
       "True"
      ]
     },
     "execution_count": 24,
     "metadata": {},
     "output_type": "execute_result"
    }
   ],
   "source": [
    "# TEST\n",
    "# Your statistic should return a proportion\n",
    "0 <= dec_new_stat <= 1"
   ]
  },
  {
   "cell_type": "code",
   "execution_count": 25,
   "metadata": {},
   "outputs": [
    {
     "data": {
      "text/plain": [
       "True"
      ]
     },
     "execution_count": 25,
     "metadata": {},
     "output_type": "execute_result"
    }
   ],
   "source": [
    "# HIDDEN TEST\n",
    "round(new_stat(0), 3) == 0.533"
   ]
  },
  {
   "cell_type": "code",
   "execution_count": 26,
   "metadata": {},
   "outputs": [
    {
     "data": {
      "text/plain": [
       "True"
      ]
     },
     "execution_count": 26,
     "metadata": {},
     "output_type": "execute_result"
    }
   ],
   "source": [
    "# HIDDEN TEST\n",
    "round(dec_new_stat, 3) == 0.306"
   ]
  },
  {
   "cell_type": "code",
   "execution_count": 27,
   "metadata": {},
   "outputs": [
    {
     "data": {
      "text/plain": [
       "True"
      ]
     },
     "execution_count": 27,
     "metadata": {},
     "output_type": "execute_result"
    }
   ],
   "source": [
    "# HIDDEN TEST\n",
    "round(new_stat(1), 3) == 0.467"
   ]
  },
  {
   "cell_type": "markdown",
   "metadata": {},
   "source": [
    "**Question 1.2.2:** Define the function `new_simulate` that takes in an integer, `month`, and returns an array of 1000 simulated values of our new statistic under the null hypothesis.\n",
    "\n",
    "*Hint: The table* `months` *should be very helpful!*\n",
    "\n",
    "```\n",
    "BEGIN QUESTION\n",
    "name: q1_2_2\n",
    "manual: true\n",
    "```"
   ]
  },
  {
   "cell_type": "code",
   "execution_count": 28,
   "metadata": {
    "deletable": false
   },
   "outputs": [
    {
     "data": {
      "image/png": "[encoded data removed]",
      "text/plain": [
       "<Figure size 432x288 with 1 Axes>"
      ]
     },
     "metadata": {},
     "output_type": "display_data"
    }
   ],
   "source": [
    "months = lotto69.group(\"M\")\n",
    "\n",
    "def new_simulate(month):\n",
    "    num_days_in_month = months.where(\"M\", month).column(\"count\").item(0) # SOLUTION\n",
    "    reps = 1000 # SOLUTION\n",
    "    \n",
    "    test_stats = make_array() # SOLUTION\n",
    "    \n",
    "    for i in np.arange(reps):\n",
    "        one_sample = np.random.choice(possible_draft_numbers, num_days_in_month, replace=False) # SOLUTION\n",
    "        prop_selected_sample =  np.count_nonzero(one_sample <= 195) / num_days_in_month # SOLUTION\n",
    "        one_new_stat = new_stat(prop_selected_sample) # SOLUTION\n",
    "        test_stats = np.append(test_stats, one_new_stat) # SOLUTION\n",
    "        \n",
    "    return test_stats # SOLUTION\n",
    "\n",
    "# DON'T CHANGE THE LINE\n",
    "Table().with_column('Simulated Stats for January', new_simulate(1)).hist(0, bins=10) # Simulated stats for January"
   ]
  },
  {
   "cell_type": "markdown",
   "metadata": {},
   "source": [
    "**Question 1.2.3:** Define the function `calc_p` that takes in an integer, `month` as an argument and returns the empirical p-value of the hypothesis test for that month.\n",
    "\n",
    "*Hint: Add extra cells to test different pieces of your code!*\n",
    "\n",
    "```\n",
    "BEGIN QUESTION\n",
    "name: q1_2_3\n",
    "```"
   ]
  },
  {
   "cell_type": "code",
   "execution_count": 29,
   "metadata": {
    "deletable": false
   },
   "outputs": [
    {
     "data": {
      "text/plain": [
       "0.359"
      ]
     },
     "execution_count": 29,
     "metadata": {},
     "output_type": "execute_result"
    }
   ],
   "source": [
    "def calc_p(month):\n",
    "    simulated_test_stats = new_simulate(month) # SOLUTION\n",
    "    observed_num_drafted = np.count_nonzero(lotto69.where(\"M\", month).column(\"N69\") <= 195) # SOLUTION\n",
    "    num_days_in_month = months.where(\"M\", month).column(\"count\").item(0) # SOLUTION\n",
    "    observed_value = new_stat(observed_num_drafted / num_days_in_month) # SOLUTION\n",
    "    p_val = np.count_nonzero(simulated_test_stats >= observed_value) / 1000 # SOLUTION\n",
    "    return p_val # SOLUTION\n",
    "\n",
    "january_p_value = calc_p(1)\n",
    "january_p_value"
   ]
  },
  {
   "cell_type": "code",
   "execution_count": 30,
   "metadata": {},
   "outputs": [
    {
     "data": {
      "text/plain": [
       "True"
      ]
     },
     "execution_count": 30,
     "metadata": {},
     "output_type": "execute_result"
    }
   ],
   "source": [
    "# TEST\n",
    "# Return a p-value\n",
    "0 <= calc_p(1) <= 1"
   ]
  },
  {
   "cell_type": "code",
   "execution_count": 31,
   "metadata": {},
   "outputs": [
    {
     "data": {
      "text/plain": [
       "True"
      ]
     },
     "execution_count": 31,
     "metadata": {},
     "output_type": "execute_result"
    }
   ],
   "source": [
    "# TEST\n",
    "# Make sure you are using the month argument\n",
    "calc_p(3) <= calc_p(7)"
   ]
  },
  {
   "cell_type": "code",
   "execution_count": 32,
   "metadata": {},
   "outputs": [
    {
     "data": {
      "text/plain": [
       "True"
      ]
     },
     "execution_count": 32,
     "metadata": {},
     "output_type": "execute_result"
    }
   ],
   "source": [
    "# HIDDEN TEST\n",
    "calc_p(12) <= 0.01"
   ]
  },
  {
   "cell_type": "code",
   "execution_count": 33,
   "metadata": {},
   "outputs": [
    {
     "data": {
      "text/plain": [
       "True"
      ]
     },
     "execution_count": 33,
     "metadata": {},
     "output_type": "execute_result"
    }
   ],
   "source": [
    "# HIDDEN TEST\n",
    "calc_p(3) <= 0.05"
   ]
  },
  {
   "cell_type": "code",
   "execution_count": 34,
   "metadata": {},
   "outputs": [
    {
     "data": {
      "text/plain": [
       "True"
      ]
     },
     "execution_count": 34,
     "metadata": {},
     "output_type": "execute_result"
    }
   ],
   "source": [
    "# HIDDEN TEST\n",
    "calc_p(7) >= 0.6"
   ]
  },
  {
   "cell_type": "markdown",
   "metadata": {},
   "source": [
    "**Question 1.2.4:** Draw a bar chart of the p-values for each month. This might take some time to run.\n",
    "\n",
    "*Hint: DO NOT TRY CALLING THE FUNCTION ON EVERY ROW IN THE LOTTO TABLE!*\n",
    "\n",
    "```\n",
    "BEGIN QUESTION\n",
    "name: q1_2_4\n",
    "manual: true\n",
    "```"
   ]
  },
  {
   "cell_type": "code",
   "execution_count": 35,
   "metadata": {
    "deletable": false
   },
   "outputs": [
    {
     "data": {
      "image/png": "[encoded data removed]",
      "text/plain": [
       "<Figure size 432x432 with 1 Axes>"
      ]
     },
     "metadata": {},
     "output_type": "display_data"
    }
   ],
   "source": [
    "p_vals_per_month = months.apply(calc_p, \"M\") # SOLUTION\n",
    "months_and_p_vals = months.with_column(\"p vals\", p_vals_per_month)\n",
    "months_and_p_vals.barh(\"M\", \"p vals\")\n",
    "# DON'T CHANGE THE FOLLOWING LINE OF CODE\n",
    "plots.plot([0.05, 0.05], [0, 12], color=\"gold\"); # Plots the cutoff of 5%"
   ]
  },
  {
   "cell_type": "markdown",
   "metadata": {},
   "source": [
    "You should see 3 months with significant results."
   ]
  },
  {
   "cell_type": "markdown",
   "metadata": {},
   "source": [
    "**For the next 2 questions we are using a 5% p-value cutoff.**"
   ]
  },
  {
   "cell_type": "markdown",
   "metadata": {},
   "source": [
    "**Question 1.2.5:** What is the probability that if the null hypothesis is true, we still reject it? This is also called the false positive rate or \"alpha\". Assign that value to `alpha`.\n",
    "\n",
    "```\n",
    "BEGIN QUESTION\n",
    "name: q1_2_5\n",
    "```"
   ]
  },
  {
   "cell_type": "code",
   "execution_count": 36,
   "metadata": {
    "deletable": false
   },
   "outputs": [
    {
     "data": {
      "text/plain": [
       "0.05"
      ]
     },
     "execution_count": 36,
     "metadata": {},
     "output_type": "execute_result"
    }
   ],
   "source": [
    "alpha = 0.05 # SOLUTION\n",
    "alpha"
   ]
  },
  {
   "cell_type": "code",
   "execution_count": 37,
   "metadata": {},
   "outputs": [
    {
     "data": {
      "text/plain": [
       "True"
      ]
     },
     "execution_count": 37,
     "metadata": {},
     "output_type": "execute_result"
    }
   ],
   "source": [
    "# TEST\n",
    "# alpha needs to be a probability\n",
    "0 <= alpha <= 1"
   ]
  },
  {
   "cell_type": "code",
   "execution_count": 38,
   "metadata": {},
   "outputs": [
    {
     "data": {
      "text/plain": [
       "True"
      ]
     },
     "execution_count": 38,
     "metadata": {},
     "output_type": "execute_result"
    }
   ],
   "source": [
    "# HIDDEN TEST\n",
    "alpha == 0.05"
   ]
  },
  {
   "cell_type": "markdown",
   "metadata": {},
   "source": [
    "**Question 1.2.6:** What is the probability that we get at least one false positive, if the null hypothesis is true, and we run 12 hypothesis tests (like we did above)? Assign that probability to `multiple_alpha`.\n",
    "\n",
    "```\n",
    "BEGIN QUESTION\n",
    "name: q1_2_6\n",
    "```"
   ]
  },
  {
   "cell_type": "code",
   "execution_count": 39,
   "metadata": {
    "deletable": false
   },
   "outputs": [
    {
     "data": {
      "text/plain": [
       "0.45963991233736334"
      ]
     },
     "execution_count": 39,
     "metadata": {},
     "output_type": "execute_result"
    }
   ],
   "source": [
    "multiple_alpha = 1 - (1-0.05)**12 # SOLUTION\n",
    "multiple_alpha"
   ]
  },
  {
   "cell_type": "code",
   "execution_count": 40,
   "metadata": {},
   "outputs": [
    {
     "data": {
      "text/plain": [
       "True"
      ]
     },
     "execution_count": 40,
     "metadata": {},
     "output_type": "execute_result"
    }
   ],
   "source": [
    "# TEST \n",
    "# multiple_alpha should be a probability\n",
    "0 <= multiple_alpha <= 1"
   ]
  },
  {
   "cell_type": "code",
   "execution_count": 41,
   "metadata": {},
   "outputs": [
    {
     "data": {
      "text/plain": [
       "True"
      ]
     },
     "execution_count": 41,
     "metadata": {},
     "output_type": "execute_result"
    }
   ],
   "source": [
    "# TEST\n",
    "# The probability should increase\n",
    "multiple_alpha > alpha"
   ]
  },
  {
   "cell_type": "code",
   "execution_count": 42,
   "metadata": {},
   "outputs": [
    {
     "data": {
      "text/plain": [
       "True"
      ]
     },
     "execution_count": 42,
     "metadata": {},
     "output_type": "execute_result"
    }
   ],
   "source": [
    "# HIDDEN TEST\n",
    "round(multiple_alpha, 4) == 0.4596"
   ]
  },
  {
   "cell_type": "markdown",
   "metadata": {},
   "source": [
    "Yikes, that number is pretty high. Luckily, statisticians have developed a few ways to deal with this problem."
   ]
  },
  {
   "cell_type": "markdown",
   "metadata": {},
   "source": [
    "**Question 1.2.7:** One way to deal with this issue is to use a lower p-value cutoff. To determine our new p-value cutoff, we can divide our original cutoff by the number of tests we are running. Calculate the probability of getting at least one false positive if we run 12 hypothesis tests and use this new adjusted p-value cutoff, assuming the null hypothesis is true in each case. Assign that value to `bonferroni`.\n",
    "\n",
    "```\n",
    "BEGIN QUESTION\n",
    "name: q1_2_7\n",
    "```"
   ]
  },
  {
   "cell_type": "code",
   "execution_count": 43,
   "metadata": {
    "deletable": false,
    "scrolled": true
   },
   "outputs": [
    {
     "data": {
      "text/plain": [
       "0.04886993281129881"
      ]
     },
     "execution_count": 43,
     "metadata": {},
     "output_type": "execute_result"
    }
   ],
   "source": [
    "adjusted_cutoff = 0.05 / 12 # SOLUTION\n",
    "bonferroni = 1 - (1- adjusted_cutoff)**12 # SOLUTION\n",
    "bonferroni"
   ]
  },
  {
   "cell_type": "code",
   "execution_count": 44,
   "metadata": {},
   "outputs": [
    {
     "data": {
      "text/plain": [
       "True"
      ]
     },
     "execution_count": 44,
     "metadata": {},
     "output_type": "execute_result"
    }
   ],
   "source": [
    "# TEST \n",
    "# bonferroni should be a probability\n",
    "0 <= bonferroni <= 1"
   ]
  },
  {
   "cell_type": "code",
   "execution_count": 45,
   "metadata": {},
   "outputs": [
    {
     "data": {
      "text/plain": [
       "True"
      ]
     },
     "execution_count": 45,
     "metadata": {},
     "output_type": "execute_result"
    }
   ],
   "source": [
    "# TEST\n",
    "# The probability should decrease\n",
    "multiple_alpha > bonferroni"
   ]
  },
  {
   "cell_type": "code",
   "execution_count": 46,
   "metadata": {},
   "outputs": [
    {
     "data": {
      "text/plain": [
       "True"
      ]
     },
     "execution_count": 46,
     "metadata": {},
     "output_type": "execute_result"
    }
   ],
   "source": [
    "# HIDDEN TEST\n",
    "round(bonferroni, 4) == 0.0489"
   ]
  },
  {
   "cell_type": "markdown",
   "metadata": {},
   "source": [
    "**Question 1.2.8:** Assign `num_sig` to the number of our hypothesis tests that were significant using our normal cutoff value. Assign `num_sig_adjusted` to the number of hypothesis tests that were significant using this new \"adjusted\" p-value cutoff.\n",
    "\n",
    "\n",
    "```\n",
    "BEGIN QUESTION\n",
    "name: q1_2_8\n",
    "```"
   ]
  },
  {
   "cell_type": "code",
   "execution_count": 47,
   "metadata": {
    "deletable": false,
    "scrolled": true
   },
   "outputs": [
    {
     "name": "stdout",
     "output_type": "stream",
     "text": [
      "Number of months significant: 3; Number of months significant after adjustment: 1\n"
     ]
    }
   ],
   "source": [
    "num_sig = months_and_p_vals.where(\"p vals\", are.below(0.05)).num_rows # SOLUTION\n",
    "num_sig_adjusted = months_and_p_vals.where(\"p vals\", are.below(0.05/12)).num_rows # SOLUTION\n",
    "\n",
    "print(f\"Number of months significant: {num_sig}; Number of months significant after adjustment: {num_sig_adjusted}\")"
   ]
  },
  {
   "cell_type": "code",
   "execution_count": 48,
   "metadata": {},
   "outputs": [
    {
     "data": {
      "text/plain": [
       "True"
      ]
     },
     "execution_count": 48,
     "metadata": {},
     "output_type": "execute_result"
    }
   ],
   "source": [
    "# TEST\n",
    "# Between 0 and 12 tests should be significant\n",
    "0 <= num_sig_adjusted <= num_sig <= 12"
   ]
  },
  {
   "cell_type": "code",
   "execution_count": 49,
   "metadata": {},
   "outputs": [
    {
     "data": {
      "text/plain": [
       "True"
      ]
     },
     "execution_count": 49,
     "metadata": {},
     "output_type": "execute_result"
    }
   ],
   "source": [
    "# HIDDEN TEST\n",
    "num_sig == 3"
   ]
  },
  {
   "cell_type": "code",
   "execution_count": 50,
   "metadata": {
    "scrolled": true
   },
   "outputs": [
    {
     "data": {
      "text/plain": [
       "True"
      ]
     },
     "execution_count": 50,
     "metadata": {},
     "output_type": "execute_result"
    }
   ],
   "source": [
    "# HIDDEN TEST\n",
    "num_sig_adjusted == 1"
   ]
  },
  {
   "cell_type": "markdown",
   "metadata": {},
   "source": [
    "**Question 1.2.9:** There are around 1300 students in Data 8 every semester, and around 500 in the summer. Presumably, each student will run the same hypothesis tests that you have ran in this experiment. Since this assignment is based on a very famous historical example, we can also assume forms of this exact hypothesis test have previously been run thousands if not millions of times. How do you think this huge number of hypothesis tests effects our conclusions, specifically related to our choice of p-value cutoff?\n",
    "\n",
    "\n",
    "```\n",
    "BEGIN QUESTION\n",
    "name: q1_2_9\n",
    "manual: true\n",
    "```"
   ]
  },
  {
   "cell_type": "markdown",
   "metadata": {
    "manual_grade": true
   },
   "source": [
    "**SOLUTION:** Since this hypothesis is tested many, many times, the likelihood of false positives occuring at any point are essentially guaranteed, and we may have to use a lower p value cutoff when we do our own tests. This issue is becoming more and more prevalent in Data Science as open source datasets are widely tested. If this topic is interesting to you, it is covered in Data 102!"
   ]
  },
  {
   "cell_type": "markdown",
   "metadata": {},
   "source": [
    "### Checkpoint (due Friday, 4/2 by 11:59pm PT)\n",
    "#### Congratulations, you have reached the checkpoint! Run the submit cell below to generate the checkpoint submission. "
   ]
  },
  {
   "cell_type": "code",
   "execution_count": 51,
   "metadata": {},
   "outputs": [
    {
     "ename": "NameError",
     "evalue": "name 'ok' is not defined",
     "output_type": "error",
     "traceback": [
      "\u001b[0;31m---------------------------------------------------------------------------\u001b[0m",
      "\u001b[0;31mNameError\u001b[0m                                 Traceback (most recent call last)",
      "\u001b[0;32m<ipython-input-51-cc46ca874451>\u001b[0m in \u001b[0;36m<module>\u001b[0;34m\u001b[0m\n\u001b[0;32m----> 1\u001b[0;31m \u001b[0m_\u001b[0m \u001b[0;34m=\u001b[0m \u001b[0mok\u001b[0m\u001b[0;34m.\u001b[0m\u001b[0msubmit\u001b[0m\u001b[0;34m(\u001b[0m\u001b[0;34m)\u001b[0m\u001b[0;34m\u001b[0m\u001b[0;34m\u001b[0m\u001b[0m\n\u001b[0m",
      "\u001b[0;31mNameError\u001b[0m: name 'ok' is not defined"
     ]
    }
   ],
   "source": [
    "_ = ok.submit()"
   ]
  },
  {
   "cell_type": "markdown",
   "metadata": {},
   "source": [
    "## Section 3: Applying the Central Limit Theorem"
   ]
  },
  {
   "cell_type": "markdown",
   "metadata": {},
   "source": [
    "As part of a lesson on the Vietnam War, Jill plans on taking a survey of the birthdays of her 45 person class to determine who could have been drafted.\n",
    "\n",
    "From the previous part, we know that 195 out of 366 of possible birthdates would be eligible. For every following question, we assume birth dates have an equal proportion in the population (this assumption is not true in reality), and we are only concered with the birthdate (ie we don't consider that the draft had limits on age or sex)."
   ]
  },
  {
   "cell_type": "markdown",
   "metadata": {},
   "source": [
    "**Question 1.3.1:** Which of the following facts tell us that the Central Limit Theorem will dictate the distribution of the number of students with draft eligible birthdays? Assign `choices_clt` to an array that contain integers corresponding to valid statements.\n",
    "\n",
    "1. The number of people in the class who could be drafted acts like a population sum.\n",
    "2. Since the population the class is drawn from is *reasonably* large, the class acts like a sample drawn with replacement\n",
    "3. 195/366 is fairly close to 50%\n",
    "4. Birthdates in the population are not normally distributed\n",
    "5. The class size is reasonably large\n",
    "\n",
    "```\n",
    "BEGIN QUESTION\n",
    "name: q1_3_1\n",
    "```"
   ]
  },
  {
   "cell_type": "code",
   "execution_count": 52,
   "metadata": {
    "deletable": false
   },
   "outputs": [],
   "source": [
    "choices_clt = make_array(1, 2, 5) # SOLUTION"
   ]
  },
  {
   "cell_type": "code",
   "execution_count": 53,
   "metadata": {},
   "outputs": [
    {
     "data": {
      "text/plain": [
       "True"
      ]
     },
     "execution_count": 53,
     "metadata": {},
     "output_type": "execute_result"
    }
   ],
   "source": [
    "# TEST\n",
    "# choices should be an array\n",
    "type(choices_clt) == type(make_array())"
   ]
  },
  {
   "cell_type": "code",
   "execution_count": 54,
   "metadata": {},
   "outputs": [
    {
     "data": {
      "text/plain": [
       "True"
      ]
     },
     "execution_count": 54,
     "metadata": {},
     "output_type": "execute_result"
    }
   ],
   "source": [
    "# HIDDEN TEST\n",
    "all([i in choices_clt for i in make_array(1, 2, 5)])"
   ]
  },
  {
   "cell_type": "code",
   "execution_count": 55,
   "metadata": {},
   "outputs": [
    {
     "data": {
      "text/plain": [
       "True"
      ]
     },
     "execution_count": 55,
     "metadata": {},
     "output_type": "execute_result"
    }
   ],
   "source": [
    "# HIDDEN TEST\n",
    "len(choices_clt) == 3"
   ]
  },
  {
   "cell_type": "markdown",
   "metadata": {},
   "source": [
    "**Question 1.3.2:** Plot a histogram of the distribution of the number of students with draft eligible birthdays. Use 10,000 simulated trials.\n",
    "\n",
    "*Hint: Visualize an emprical distribution of the number of students with draft eligible birthdays in 10,000 simulated samples of size 45.*\n",
    "\n",
    "```\n",
    "BEGIN QUESTION\n",
    "name: q1_3_2\n",
    "```"
   ]
  },
  {
   "cell_type": "code",
   "execution_count": 56,
   "metadata": {
    "deletable": false,
    "scrolled": false
   },
   "outputs": [
    {
     "data": {
      "image/png": "[encoded data removed]",
      "text/plain": [
       "<Figure size 432x288 with 1 Axes>"
      ]
     },
     "metadata": {},
     "output_type": "display_data"
    }
   ],
   "source": [
    "class_nums = make_array() # SOLUTION\n",
    "reps = 10000 # SOLUTION\n",
    "draft_proportions = make_array(195/366, 171/366) # SOLUTION\n",
    "class_size = 45 # SOLUTION\n",
    "\n",
    "# BEGIN SOLUTION\n",
    "for i in np.arange(reps):\n",
    "    one_class_prop = sample_proportions(class_size, draft_proportions)\n",
    "    one_class_num = one_class_prop.item(0) * class_size\n",
    "    class_nums = np.append(class_nums, one_class_num)\n",
    "# END SOLUTION\n",
    "\n",
    "# DON'T CHANGE THIS LINE\n",
    "Table().with_column(\"Number Eligible\", class_nums).hist(0, bins=np.arange(0.5,45.5,1))"
   ]
  },
  {
   "cell_type": "markdown",
   "metadata": {},
   "source": [
    "Load the `birthdays` table in the following cell. The table contains the birthdays of Jill's class."
   ]
  },
  {
   "cell_type": "code",
   "execution_count": 57,
   "metadata": {
    "deletable": false
   },
   "outputs": [
    {
     "data": {
      "text/html": [
       "<table border=\"1\" class=\"dataframe\">\n",
       "    <thead>\n",
       "        <tr>\n",
       "            <th>M</th> <th>D</th>\n",
       "        </tr>\n",
       "    </thead>\n",
       "    <tbody>\n",
       "        <tr>\n",
       "            <td>2   </td> <td>22  </td>\n",
       "        </tr>\n",
       "        <tr>\n",
       "            <td>10  </td> <td>30  </td>\n",
       "        </tr>\n",
       "        <tr>\n",
       "            <td>4   </td> <td>13  </td>\n",
       "        </tr>\n",
       "        <tr>\n",
       "            <td>3   </td> <td>16  </td>\n",
       "        </tr>\n",
       "        <tr>\n",
       "            <td>4   </td> <td>28  </td>\n",
       "        </tr>\n",
       "        <tr>\n",
       "            <td>7   </td> <td>11  </td>\n",
       "        </tr>\n",
       "        <tr>\n",
       "            <td>3   </td> <td>15  </td>\n",
       "        </tr>\n",
       "        <tr>\n",
       "            <td>12  </td> <td>5   </td>\n",
       "        </tr>\n",
       "        <tr>\n",
       "            <td>2   </td> <td>9   </td>\n",
       "        </tr>\n",
       "        <tr>\n",
       "            <td>3   </td> <td>29  </td>\n",
       "        </tr>\n",
       "    </tbody>\n",
       "</table>\n",
       "<p>... (35 rows omitted)</p>"
      ],
      "text/plain": [
       "<IPython.core.display.HTML object>"
      ]
     },
     "metadata": {},
     "output_type": "display_data"
    }
   ],
   "source": [
    "birthdays = Table().read_table(\"birthdays.csv\")\n",
    "birthdays.show(10)"
   ]
  },
  {
   "cell_type": "markdown",
   "metadata": {},
   "source": [
    "**Question 1.3.3:** We need to use the lottery information from the `lotto` table to determine which of these birthdays are eligible. Create a new table called `birthdays_new` that has the `M`, `D` from `birthdays` and the `N69` column from `lotto`. The rows should correspond to the 45 rows in the `birthdays` table.\n",
    "\n",
    "*Hint: Remember that you can join on multiple columns at the same time by passing **lists** as the column arguments. [Example](http://data8.org/datascience/_autosummary/datascience.tables.Table.join.html)*\n",
    "\n",
    "```\n",
    "BEGIN QUESTION\n",
    "name: q1_3_3\n",
    "```"
   ]
  },
  {
   "cell_type": "code",
   "execution_count": 58,
   "metadata": {
    "deletable": false
   },
   "outputs": [
    {
     "data": {
      "text/html": [
       "<table border=\"1\" class=\"dataframe\">\n",
       "    <thead>\n",
       "        <tr>\n",
       "            <th>M</th> <th>D</th> <th>N69</th>\n",
       "        </tr>\n",
       "    </thead>\n",
       "    <tbody>\n",
       "        <tr>\n",
       "            <td>1   </td> <td>7   </td> <td>306 </td>\n",
       "        </tr>\n",
       "        <tr>\n",
       "            <td>1   </td> <td>9   </td> <td>194 </td>\n",
       "        </tr>\n",
       "        <tr>\n",
       "            <td>1   </td> <td>29  </td> <td>349 </td>\n",
       "        </tr>\n",
       "        <tr>\n",
       "            <td>1   </td> <td>30  </td> <td>164 </td>\n",
       "        </tr>\n",
       "        <tr>\n",
       "            <td>2   </td> <td>6   </td> <td>347 </td>\n",
       "        </tr>\n",
       "        <tr>\n",
       "            <td>2   </td> <td>9   </td> <td>338 </td>\n",
       "        </tr>\n",
       "        <tr>\n",
       "            <td>2   </td> <td>12  </td> <td>68  </td>\n",
       "        </tr>\n",
       "        <tr>\n",
       "            <td>2   </td> <td>22  </td> <td>290 </td>\n",
       "        </tr>\n",
       "        <tr>\n",
       "            <td>3   </td> <td>15  </td> <td>169 </td>\n",
       "        </tr>\n",
       "        <tr>\n",
       "            <td>3   </td> <td>16  </td> <td>166 </td>\n",
       "        </tr>\n",
       "    </tbody>\n",
       "</table>\n",
       "<p>... (35 rows omitted)</p>"
      ],
      "text/plain": [
       "M    | D    | N69\n",
       "1    | 7    | 306\n",
       "1    | 9    | 194\n",
       "1    | 29   | 349\n",
       "1    | 30   | 164\n",
       "2    | 6    | 347\n",
       "2    | 9    | 338\n",
       "2    | 12   | 68\n",
       "2    | 22   | 290\n",
       "3    | 15   | 169\n",
       "3    | 16   | 166\n",
       "... (35 rows omitted)"
      ]
     },
     "execution_count": 58,
     "metadata": {},
     "output_type": "execute_result"
    }
   ],
   "source": [
    "birthdays_new = birthdays.join([\"M\", \"D\"], lotto, [\"M\", \"D\"]).select(0, 1, 2) # SOLUTION\n",
    "birthdays_new"
   ]
  },
  {
   "cell_type": "code",
   "execution_count": 59,
   "metadata": {},
   "outputs": [
    {
     "data": {
      "text/plain": [
       "True"
      ]
     },
     "execution_count": 59,
     "metadata": {},
     "output_type": "execute_result"
    }
   ],
   "source": [
    "# TEST\n",
    "birthdays_new.num_rows == 45"
   ]
  },
  {
   "cell_type": "code",
   "execution_count": 60,
   "metadata": {},
   "outputs": [
    {
     "data": {
      "text/plain": [
       "True"
      ]
     },
     "execution_count": 60,
     "metadata": {},
     "output_type": "execute_result"
    }
   ],
   "source": [
    "# TEST\n",
    "birthdays_new.labels == ('M', 'D', 'N69')"
   ]
  },
  {
   "cell_type": "code",
   "execution_count": 61,
   "metadata": {},
   "outputs": [
    {
     "name": "stdout",
     "output_type": "stream",
     "text": [
      "M    | D    | N69\n",
      "1    | 7    | 306\n",
      "1    | 9    | 194\n",
      "1    | 29   | 349\n",
      "1    | 30   | 164\n",
      "2    | 6    | 347\n"
     ]
    }
   ],
   "source": [
    "# HIDDEN TEST\n",
    "print(birthdays_new.take(np.arange(5)))"
   ]
  },
  {
   "cell_type": "markdown",
   "metadata": {},
   "source": [
    "**Question 1.3.4:** Generate a 95% Confidence interval for the sample number of eligible students using 10,000 bootstrap resamples. Assign the bounds to `upper` and `lower`. Make sure to assign the 10,000 resample statistics to the array `resamples_num_eligible`.\n",
    "\n",
    "*Hint: Do not redo the work you did in 1.3.3, otherwise your code will try to join two tables 10,000 times and run forever!*\n",
    "\n",
    "```\n",
    "BEGIN QUESTION\n",
    "name: q1_3_4\n",
    "```"
   ]
  },
  {
   "cell_type": "code",
   "execution_count": 62,
   "metadata": {
    "deletable": false
   },
   "outputs": [
    {
     "name": "stdout",
     "output_type": "stream",
     "text": [
      "95% CI: [13.0, 25.0])\n"
     ]
    },
    {
     "data": {
      "image/png": "[encoded data removed]",
      "text/plain": [
       "<Figure size 432x288 with 1 Axes>"
      ]
     },
     "metadata": {},
     "output_type": "display_data"
    }
   ],
   "source": [
    "resamples_num_eligible = make_array() # SOLUTION\n",
    "reps = 10000 # SOLUTION\n",
    "\n",
    "for i in np.arange(reps):\n",
    "    resample = birthdays_new.sample() # SOLUTION\n",
    "    num_eligible = np.count_nonzero(resample.column(\"N69\") <= 195) # SOLUTION\n",
    "    resamples_num_eligible = np.append(resamples_num_eligible, num_eligible) # SOLUTION\n",
    "\n",
    "lower = percentile(2.5, resamples_num_eligible) # SOLUTION\n",
    "upper = percentile(97.5, resamples_num_eligible) # SOLUTION\n",
    "\n",
    "# DON'T CHANGE THESE LINES OF CODE\n",
    "Table().with_column(\"Resample Values\", resamples_num_eligible).hist(0, bins=np.arange(0.5,45.5,1))\n",
    "plots.plot([lower,upper], [0,0], color=\"gold\", lw=10); # Plots the CI\n",
    "print(f\"95% CI: [{lower}, {upper}])\")"
   ]
  },
  {
   "cell_type": "code",
   "execution_count": 63,
   "metadata": {},
   "outputs": [
    {
     "data": {
      "text/plain": [
       "True"
      ]
     },
     "execution_count": 63,
     "metadata": {},
     "output_type": "execute_result"
    }
   ],
   "source": [
    "# TEST\n",
    "0 <= lower <= upper <= 45"
   ]
  },
  {
   "cell_type": "code",
   "execution_count": 64,
   "metadata": {},
   "outputs": [
    {
     "data": {
      "text/plain": [
       "True"
      ]
     },
     "execution_count": 64,
     "metadata": {},
     "output_type": "execute_result"
    }
   ],
   "source": [
    "# HIDDEN TEST\n",
    "lower == percentile(2.5, resamples_num_eligible)"
   ]
  },
  {
   "cell_type": "code",
   "execution_count": 65,
   "metadata": {},
   "outputs": [
    {
     "data": {
      "text/plain": [
       "True"
      ]
     },
     "execution_count": 65,
     "metadata": {},
     "output_type": "execute_result"
    }
   ],
   "source": [
    "# HIDDEN TEST\n",
    "upper == percentile(97.5, resamples_num_eligible)"
   ]
  },
  {
   "cell_type": "code",
   "execution_count": 66,
   "metadata": {
    "deletable": false
   },
   "outputs": [
    {
     "data": {
      "text/plain": [
       "True"
      ]
     },
     "execution_count": 66,
     "metadata": {},
     "output_type": "execute_result"
    }
   ],
   "source": [
    "# HIDDEN TEST\n",
    "18 <= np.mean(resamples_num_eligible) <= 20"
   ]
  },
  {
   "cell_type": "code",
   "execution_count": 67,
   "metadata": {
    "deletable": false
   },
   "outputs": [
    {
     "data": {
      "text/plain": [
       "True"
      ]
     },
     "execution_count": 67,
     "metadata": {},
     "output_type": "execute_result"
    }
   ],
   "source": [
    "# HIDDEN TEST\n",
    "2.5 <= np.std(resamples_num_eligible) <= 4"
   ]
  },
  {
   "cell_type": "markdown",
   "metadata": {},
   "source": [
    "**Question 1.3.5:** Steve did the same exercise with his own class. To see if the number eligible in his class is statistically significant or not, which of the two histograms should he compare his number to and why?\n",
    "\n",
    "\n",
    "```\n",
    "BEGIN QUESTION\n",
    "name: q1_3_5\n",
    "manual: true\n",
    "```"
   ]
  },
  {
   "cell_type": "markdown",
   "metadata": {
    "deletable": false,
    "manual_grade": true
   },
   "source": [
    "**SOLUTION:** He should compare his number to the first histogram, because the first histogram is for sample means not resample means."
   ]
  },
  {
   "cell_type": "markdown",
   "metadata": {},
   "source": [
    "**Challenge:** Where do these birthdays come from? Post your guess on the Piazza thread for this section!"
   ]
  },
  {
   "cell_type": "markdown",
   "metadata": {},
   "source": [
    "# Part 2: Lifetime Earnings"
   ]
  },
  {
   "cell_type": "markdown",
   "metadata": {},
   "source": [
    "> \"A central question in the debate over military manpower policy is whether veterans are adequately compensated for their service. The political process clearly reflects the desire to compensate veterans: since World War II, millions of veterans have enjoyed benefits for medical care, education and training, housing, insurance, and job placement. Recent legislation provides additional benefits for veterans of the Vietnam era. Yet, academic research has not shown \n",
    "conclusively that Vietnam (or other) veterans are worse off economically than nonveterans\" (Angrist 1990)\n",
    "\n",
    "Are veterans \"adequately compensated\"? Can we identify any significant differences in earnings between veterans and non-veterans? This was the central focus of the classic paper [\"Lifetime Earnings and the Vietnam Era Draft Lottery: Evidence from Social Security Administrative Records\"](https://economics.mit.edu/faculty/angrist/data1/data/angrist90) by [Joshua Angrist](https://en.wikipedia.org/wiki/Joshua_Angrist). In the following section, we will try to use methods we have learned, including hypothesis testing and parameter estimation to investigate this question."
   ]
  },
  {
   "cell_type": "markdown",
   "metadata": {},
   "source": [
    "## Section 1: The Data"
   ]
  },
  {
   "cell_type": "markdown",
   "metadata": {},
   "source": [
    ">\"The original CWHS data set does not contain information on date of birth. SSA programmers matched date of birth variables to the CWHS in a special extract created for this project. Lottery numbers were then matched to dates of birth, using tables published in the 1969-73 Semiannual Reports of the Director of Selective Service. The Internal Revenue Service limits disclosure of data collected for tax purposes. To adhere to these disclosure requirements, the SSA could release only aggregate data. The aggregate data set contains sample statistics for cells defined by year of earnings, year of birth, race, and five consecutive lottery numbers. Cell statistics include means, variances, fraction with earnings equal to the taxable maximum, fraction with earnings above the taxable maximum, fraction with zero earnings, and number of observations in each cell.\" (Angrist 1990)\n",
    "\n",
    "Angrist collected data from the IRS (Internal Revenue Service-- the tax agency of the United States). The dataset in question is the CWHS: the Continuous Work History Sample, which is a sample of 1% of all eligible social security numbers. You can see what this table looks like by running the following cell."
   ]
  },
  {
   "cell_type": "code",
   "execution_count": 68,
   "metadata": {
    "deletable": false
   },
   "outputs": [
    {
     "data": {
      "text/html": [
       "<table border=\"1\" class=\"dataframe\">\n",
       "    <thead>\n",
       "        <tr>\n",
       "            <th>byr</th> <th>race</th> <th>interval</th> <th>vmn1</th> <th>vsd1</th> <th>vnu1</th> <th>vnms1</th> <th>vfin1</th> <th>year</th> <th>ctr1</th> <th>type</th> <th>ltax</th> <th>xltax</th>\n",
       "        </tr>\n",
       "    </thead>\n",
       "    <tbody>\n",
       "        <tr>\n",
       "            <td>44  </td> <td>1   </td> <td>1       </td> <td>10625.6</td> <td>7052.47</td> <td>179 </td> <td>3    </td> <td>0.179</td> <td>78  </td> <td>15  </td> <td>TAXAB</td> <td>0.296</td> <td>0.218</td>\n",
       "        </tr>\n",
       "        <tr>\n",
       "            <td>44  </td> <td>1   </td> <td>2       </td> <td>11546.5</td> <td>8032.55</td> <td>182 </td> <td>5    </td> <td>0.198</td> <td>78  </td> <td>15  </td> <td>TAXAB</td> <td>0.368</td> <td>0.264</td>\n",
       "        </tr>\n",
       "        <tr>\n",
       "            <td>44  </td> <td>1   </td> <td>3       </td> <td>11401.2</td> <td>7508.27</td> <td>209 </td> <td>1.5  </td> <td>0.196</td> <td>78  </td> <td>15  </td> <td>TAXAB</td> <td>0.335</td> <td>0.254</td>\n",
       "        </tr>\n",
       "        <tr>\n",
       "            <td>44  </td> <td>1   </td> <td>4       </td> <td>10900  </td> <td>7342.6 </td> <td>206 </td> <td>1.5  </td> <td>0.189</td> <td>78  </td> <td>15  </td> <td>TAXAB</td> <td>0.311</td> <td>0.248</td>\n",
       "        </tr>\n",
       "        <tr>\n",
       "            <td>44  </td> <td>1   </td> <td>5       </td> <td>11667.1</td> <td>7507.56</td> <td>207 </td> <td>0    </td> <td>0.159</td> <td>78  </td> <td>15  </td> <td>TAXAB</td> <td>0.415</td> <td>0.362</td>\n",
       "        </tr>\n",
       "    </tbody>\n",
       "</table>\n",
       "<p>... (20435 rows omitted)</p>"
      ],
      "text/plain": [
       "<IPython.core.display.HTML object>"
      ]
     },
     "metadata": {},
     "output_type": "display_data"
    }
   ],
   "source": [
    "cwhsb = Table.read_table(\"cwhsb.csv\").drop(0)\n",
    "cwhsb.show(5)"
   ]
  },
  {
   "cell_type": "markdown",
   "metadata": {},
   "source": [
    "**Question 2.1.1:** Each row in `cwhsb` represents tax info of about 200 people grouped by range of birth date (interval represents a group of 5 days of the year). Why do you think the IRS would aggregate the data instead of releasing info for each person individually in the sample?\n",
    "\n",
    "```\n",
    "BEGIN QUESTION\n",
    "name: q2_1_1\n",
    "manual: true\n",
    "```"
   ]
  },
  {
   "cell_type": "markdown",
   "metadata": {
    "deletable": false,
    "manual_grade": true
   },
   "source": [
    "**SOLUTION:** Releasing peoples' tax info is a potential privacy concern, even if you don't put their name or social security number down they might still be identified."
   ]
  },
  {
   "cell_type": "markdown",
   "metadata": {},
   "source": [
    "**Question 2.1.2:** How many people are represented in the `cwhsb` table? Assign that value to `total`. \n",
    "\n",
    "*Hint: The `vnu1` column tells you how many people each row corresponds to*\n",
    "```\n",
    "BEGIN QUESTION\n",
    "name: q2_1_2\n",
    "```"
   ]
  },
  {
   "cell_type": "code",
   "execution_count": 69,
   "metadata": {
    "deletable": false
   },
   "outputs": [
    {
     "data": {
      "text/plain": [
       "2867110"
      ]
     },
     "execution_count": 69,
     "metadata": {},
     "output_type": "execute_result"
    }
   ],
   "source": [
    "total = sum(cwhsb.column(\"vnu1\")) # SOLUTION\n",
    "total"
   ]
  },
  {
   "cell_type": "code",
   "execution_count": 70,
   "metadata": {},
   "outputs": [
    {
     "data": {
      "text/plain": [
       "True"
      ]
     },
     "execution_count": 70,
     "metadata": {},
     "output_type": "execute_result"
    }
   ],
   "source": [
    "# TEST\n",
    "int(total) == 2867110"
   ]
  },
  {
   "cell_type": "markdown",
   "metadata": {},
   "source": [
    "Angrist applies a number of filters on the data to limit the data to just men of the appropriate ages who were eligible to be drafted in any of the four draft lotteries. After applying these filters, the new table represents only 1,238,734 men. After reproducing these filters, our data is still aggregated data.   "
   ]
  },
  {
   "cell_type": "markdown",
   "metadata": {},
   "source": [
    "**Question 2.1.3:** Do you think using aggregated data or not-aggregated data would produce a more correct result for any hypothesis tests we perform?\n",
    "\n",
    "```\n",
    "BEGIN QUESTION\n",
    "name: q2_1_3\n",
    "manual: true\n",
    "```"
   ]
  },
  {
   "cell_type": "markdown",
   "metadata": {
    "deletable": false,
    "manual_grade": true
   },
   "source": [
    "**SOLUTION:** Ideally we would use not-aggregated data. Aggregating our data causes us to lose some information about each data point."
   ]
  },
  {
   "cell_type": "markdown",
   "metadata": {},
   "source": [
    "For the rest of this section we are going to use artificially disaggregated data. Here's how Yanay disaggregated the data:\n",
    "\n",
    "1. For each row in `cwshb`, he generated a corresponding number of rows in the new dataset with the same categorical variables (ie birth year, race, birthday interval etc) to represent each person aggregated in the `cwshb` row.\n",
    "2. For the earnings for each new row, he randomly generated a value for earnings from a distribution that had the same mean and standard deviation as specified for that group in the `cwshb` table. Since the `cwshb` table has info about proportions of people in a group who had 0 earnings, he made sure that a corresponding number of people have an earnings of \\$0 for that group in the new table.\n",
    "\n",
    "For example, for this row from the `cwhsb` table,\n",
    "\n",
    "![One Row](one_row_cwhsb.png)\n",
    "\n",
    "Yanay generated 190 rows, 30 of which have earnings of 0 (0.163 * 190 == 30). The distribution of earnings in these rows looks like this:\n",
    "\n",
    "![One Row Earnings](row_earnings.png)\n",
    "\n",
    "The 190 rows all correspond to white men born in 1950 who fall into birthday interval 1 (birthday interval 1 contains 5 birth dates that were all eligible to be drafted). The mean of the earnings generated is 9150.06 and the standard deviation is 5562.51, which is close to what was stated in the `cwshb` table (the vmn1 and vsd1 columns contain this info).\n",
    "\n",
    "The disaggregated rows are stored in the `earnings` table."
   ]
  },
  {
   "cell_type": "code",
   "execution_count": 71,
   "metadata": {
    "deletable": false
   },
   "outputs": [
    {
     "data": {
      "text/html": [
       "<table border=\"1\" class=\"dataframe\">\n",
       "    <thead>\n",
       "        <tr>\n",
       "            <th>earnings</th> <th>byr</th> <th>race</th> <th>interval</th> <th>eligible</th>\n",
       "        </tr>\n",
       "    </thead>\n",
       "    <tbody>\n",
       "        <tr>\n",
       "            <td>0       </td> <td>50  </td> <td>white</td> <td>1       </td> <td>True    </td>\n",
       "        </tr>\n",
       "        <tr>\n",
       "            <td>0       </td> <td>50  </td> <td>white</td> <td>1       </td> <td>True    </td>\n",
       "        </tr>\n",
       "        <tr>\n",
       "            <td>0       </td> <td>50  </td> <td>white</td> <td>1       </td> <td>True    </td>\n",
       "        </tr>\n",
       "        <tr>\n",
       "            <td>0       </td> <td>50  </td> <td>white</td> <td>1       </td> <td>True    </td>\n",
       "        </tr>\n",
       "        <tr>\n",
       "            <td>0       </td> <td>50  </td> <td>white</td> <td>1       </td> <td>True    </td>\n",
       "        </tr>\n",
       "        <tr>\n",
       "            <td>0       </td> <td>50  </td> <td>white</td> <td>1       </td> <td>True    </td>\n",
       "        </tr>\n",
       "        <tr>\n",
       "            <td>0       </td> <td>50  </td> <td>white</td> <td>1       </td> <td>True    </td>\n",
       "        </tr>\n",
       "        <tr>\n",
       "            <td>0       </td> <td>50  </td> <td>white</td> <td>1       </td> <td>True    </td>\n",
       "        </tr>\n",
       "        <tr>\n",
       "            <td>0       </td> <td>50  </td> <td>white</td> <td>1       </td> <td>True    </td>\n",
       "        </tr>\n",
       "        <tr>\n",
       "            <td>0       </td> <td>50  </td> <td>white</td> <td>1       </td> <td>True    </td>\n",
       "        </tr>\n",
       "    </tbody>\n",
       "</table>\n",
       "<p>... (1238724 rows omitted)</p>"
      ],
      "text/plain": [
       "<IPython.core.display.HTML object>"
      ]
     },
     "metadata": {},
     "output_type": "display_data"
    }
   ],
   "source": [
    "earnings = Table.read_table(\"disag.csv\")\n",
    "earnings.show(10)"
   ]
  },
  {
   "cell_type": "markdown",
   "metadata": {},
   "source": [
    "As stated, Yanay randomly generated the (non zero) earnings by sampling from a distribution with the mean and SD specified, but with a histogram that looks something like this (with appropriate mean and sd):\n",
    "\n",
    "![Curve Shape](shape_of_curve.png)"
   ]
  },
  {
   "cell_type": "markdown",
   "metadata": {},
   "source": [
    "**Question 2.1.4:** Do you think using this method of disaggregating data is completely accurate? Can you think of any ways it might bias our data, alter our  analysis, or introduce any inaccuracies?\n",
    "\n",
    "```\n",
    "BEGIN QUESTION\n",
    "name: q2_1_4\n",
    "```"
   ]
  },
  {
   "cell_type": "markdown",
   "metadata": {
    "deletable": false,
    "manual_grade": true
   },
   "source": [
    "**SOLUTION:** This is just a completely arbitrary curve, there's no way to tell if incomes all look like this, and even if they do we are just randomly generating them and might introduce outliers that aren't reflective of the actual real world."
   ]
  },
  {
   "cell_type": "markdown",
   "metadata": {},
   "source": [
    "## Section 2: Analysis"
   ]
  },
  {
   "cell_type": "markdown",
   "metadata": {},
   "source": [
    "In this section we will test the hypothesis that draft eligibility (ie one's birthdate being chosen in the lottery) had a negative impact on one's earnings.\n",
    "\n",
    "To make the data easier to use, in some parts we will use a random sample of 30000 rows from the earnings table instead of all 1.2 million."
   ]
  },
  {
   "cell_type": "code",
   "execution_count": 72,
   "metadata": {
    "deletable": false
   },
   "outputs": [
    {
     "data": {
      "text/html": [
       "<table border=\"1\" class=\"dataframe\">\n",
       "    <thead>\n",
       "        <tr>\n",
       "            <th>earnings</th> <th>byr</th> <th>race</th> <th>interval</th> <th>eligible</th>\n",
       "        </tr>\n",
       "    </thead>\n",
       "    <tbody>\n",
       "        <tr>\n",
       "            <td>17299   </td> <td>52  </td> <td>white   </td> <td>48      </td> <td>False   </td>\n",
       "        </tr>\n",
       "        <tr>\n",
       "            <td>11522.3 </td> <td>51  </td> <td>white   </td> <td>52      </td> <td>False   </td>\n",
       "        </tr>\n",
       "        <tr>\n",
       "            <td>10938.7 </td> <td>53  </td> <td>white   </td> <td>52      </td> <td>False   </td>\n",
       "        </tr>\n",
       "        <tr>\n",
       "            <td>12011.6 </td> <td>50  </td> <td>white   </td> <td>59      </td> <td>False   </td>\n",
       "        </tr>\n",
       "        <tr>\n",
       "            <td>0       </td> <td>50  </td> <td>nonwhite</td> <td>27      </td> <td>True    </td>\n",
       "        </tr>\n",
       "    </tbody>\n",
       "</table>\n",
       "<p>... (29995 rows omitted)</p>"
      ],
      "text/plain": [
       "<IPython.core.display.HTML object>"
      ]
     },
     "metadata": {},
     "output_type": "display_data"
    },
    {
     "data": {
      "image/png": "[encoded data removed]",
      "text/plain": [
       "<Figure size 432x288 with 1 Axes>"
      ]
     },
     "metadata": {},
     "output_type": "display_data"
    }
   ],
   "source": [
    "np.random.seed(8)\n",
    "sample = earnings.sample(30000, with_replacement=False)\n",
    "sample.show(5), sample.hist(0, bins=np.arange(0, 80000, 10000));"
   ]
  },
  {
   "cell_type": "code",
   "execution_count": 73,
   "metadata": {
    "deletable": false
   },
   "outputs": [
    {
     "name": "stdout",
     "output_type": "stream",
     "text": [
      "Table 1:\n"
     ]
    },
    {
     "data": {
      "text/html": [
       "<table border=\"1\" class=\"dataframe\">\n",
       "    <thead>\n",
       "        <tr>\n",
       "            <th>eligible</th> <th>earnings mean</th> <th>byr mean</th>\n",
       "        </tr>\n",
       "    </thead>\n",
       "    <tbody>\n",
       "        <tr>\n",
       "            <td>False   </td> <td>12708.3      </td> <td>51.7231 </td>\n",
       "        </tr>\n",
       "        <tr>\n",
       "            <td>True    </td> <td>12910        </td> <td>51.2121 </td>\n",
       "        </tr>\n",
       "    </tbody>\n",
       "</table>"
      ],
      "text/plain": [
       "<IPython.core.display.HTML object>"
      ]
     },
     "metadata": {},
     "output_type": "display_data"
    },
    {
     "name": "stdout",
     "output_type": "stream",
     "text": [
      "Table 2:\n"
     ]
    },
    {
     "data": {
      "text/html": [
       "<table border=\"1\" class=\"dataframe\">\n",
       "    <thead>\n",
       "        <tr>\n",
       "            <th>byr</th> <th>earnings mean</th> <th>eligible mean</th>\n",
       "        </tr>\n",
       "    </thead>\n",
       "    <tbody>\n",
       "        <tr>\n",
       "            <td>50  </td> <td>13651.9      </td> <td>0.540905     </td>\n",
       "        </tr>\n",
       "        <tr>\n",
       "            <td>51  </td> <td>13032.7      </td> <td>0.355619     </td>\n",
       "        </tr>\n",
       "        <tr>\n",
       "            <td>52  </td> <td>12367        </td> <td>0.253254     </td>\n",
       "        </tr>\n",
       "        <tr>\n",
       "            <td>53  </td> <td>12160.2      </td> <td>0.25942      </td>\n",
       "        </tr>\n",
       "    </tbody>\n",
       "</table>"
      ],
      "text/plain": [
       "<IPython.core.display.HTML object>"
      ]
     },
     "metadata": {},
     "output_type": "display_data"
    },
    {
     "data": {
      "image/png": "[encoded data removed]",
      "text/plain": [
       "<Figure size 432x288 with 1 Axes>"
      ]
     },
     "metadata": {},
     "output_type": "display_data"
    }
   ],
   "source": [
    "sample.hist(\"earnings\", group=\"eligible\",bins=np.arange(0, 80000, 10000));\n",
    "print(\"Table 1:\")\n",
    "sample.select(\"eligible\", \"earnings\", \"byr\").group(\"eligible\", np.mean).show()\n",
    "print(\"Table 2:\")\n",
    "sample.select(\"byr\", \"earnings\", \"eligible\").group(\"byr\", np.mean).show()"
   ]
  },
  {
   "cell_type": "markdown",
   "metadata": {},
   "source": [
    "**Question 2.2.1:** Table 1 seems to show us that lottery eligibile men had slightly higher earnings: based on Table 1 and Table 2, why do you think this is the case?\n",
    "\n",
    "*Hint: remember that the `byr` column is birth year, i.e. 50 is 1950.*\n",
    "\n",
    "```\n",
    "BEGIN QUESTION\n",
    "name: q2_2_1\n",
    "manual: true\n",
    "```"
   ]
  },
  {
   "cell_type": "markdown",
   "metadata": {
    "deletable": false,
    "manual_grade": true
   },
   "source": [
    "**SOLUTION:** As you get older, your income/earnings tend to increase. Eligible people are older than non eligible people on average, as the proportion of people drafted decreases each year from 1950."
   ]
  },
  {
   "cell_type": "markdown",
   "metadata": {},
   "source": [
    "Race also plays a factor in this dataset (see table 3 below). Unfortunately, the dataset is not very descriptive, and only has two options for race, white or non white. Non white is a very non-descriptive term for a huge, diverse group of people, and this may introduce a variety of confounding factors. So, for the purposes of this project we focus on the white population for which there exists clear historical records, and for which the Angrist paper investigated."
   ]
  },
  {
   "cell_type": "code",
   "execution_count": 74,
   "metadata": {
    "deletable": false
   },
   "outputs": [
    {
     "name": "stdout",
     "output_type": "stream",
     "text": [
      "Table 3:\n"
     ]
    },
    {
     "data": {
      "text/html": [
       "<table border=\"1\" class=\"dataframe\">\n",
       "    <thead>\n",
       "        <tr>\n",
       "            <th>race</th> <th>earnings mean</th> <th>eligible mean</th>\n",
       "        </tr>\n",
       "    </thead>\n",
       "    <tbody>\n",
       "        <tr>\n",
       "            <td>nonwhite</td> <td>9367.88      </td> <td>0.359165     </td>\n",
       "        </tr>\n",
       "        <tr>\n",
       "            <td>white   </td> <td>13815.2      </td> <td>0.344084     </td>\n",
       "        </tr>\n",
       "    </tbody>\n",
       "</table>"
      ],
      "text/plain": [
       "<IPython.core.display.HTML object>"
      ]
     },
     "metadata": {},
     "output_type": "display_data"
    }
   ],
   "source": [
    "print(\"Table 3:\")\n",
    "sample.select(\"race\", \"earnings\", \"eligible\").group(\"race\", np.mean).show()"
   ]
  },
  {
   "cell_type": "code",
   "execution_count": 75,
   "metadata": {
    "deletable": false
   },
   "outputs": [
    {
     "data": {
      "text/html": [
       "<table border=\"1\" class=\"dataframe\">\n",
       "    <thead>\n",
       "        <tr>\n",
       "            <th>eligible</th> <th>earnings mean</th>\n",
       "        </tr>\n",
       "    </thead>\n",
       "    <tbody>\n",
       "        <tr>\n",
       "            <td>False   </td> <td>14728.7      </td>\n",
       "        </tr>\n",
       "        <tr>\n",
       "            <td>True    </td> <td>14797.9      </td>\n",
       "        </tr>\n",
       "    </tbody>\n",
       "</table>"
      ],
      "text/plain": [
       "<IPython.core.display.HTML object>"
      ]
     },
     "metadata": {},
     "output_type": "display_data"
    },
    {
     "data": {
      "image/png": "[encoded data removed]",
      "text/plain": [
       "<Figure size 432x288 with 1 Axes>"
      ]
     },
     "metadata": {},
     "output_type": "display_data"
    }
   ],
   "source": [
    "sample.where(\"byr\", 50).where(\"race\", \"white\").hist(\"earnings\", group=\"eligible\",bins=np.arange(0, 80000, 10000));\n",
    "plots.title(\"Earnings for 1950 White men, by eligibility\");\n",
    "sample.where(\"byr\", 50).where(\"race\", \"white\").select(\"eligible\", \"earnings\").group(\"eligible\", np.mean).show()"
   ]
  },
  {
   "cell_type": "markdown",
   "metadata": {},
   "source": [
    "Let's take another sample, stored in `white_50` that contains a random sample of 2000 white men born in 1950 from the `earnings` table. We've given you some important summary statistics for the table as well."
   ]
  },
  {
   "cell_type": "code",
   "execution_count": 76,
   "metadata": {
    "deletable": false
   },
   "outputs": [
    {
     "data": {
      "text/html": [
       "<table border=\"1\" class=\"dataframe\">\n",
       "    <thead>\n",
       "        <tr>\n",
       "            <th>earnings</th> <th>eligible</th>\n",
       "        </tr>\n",
       "    </thead>\n",
       "    <tbody>\n",
       "        <tr>\n",
       "            <td>10768.8 </td> <td>True    </td>\n",
       "        </tr>\n",
       "        <tr>\n",
       "            <td>21471.4 </td> <td>True    </td>\n",
       "        </tr>\n",
       "        <tr>\n",
       "            <td>3840.38 </td> <td>False   </td>\n",
       "        </tr>\n",
       "        <tr>\n",
       "            <td>10489   </td> <td>True    </td>\n",
       "        </tr>\n",
       "        <tr>\n",
       "            <td>17503.2 </td> <td>True    </td>\n",
       "        </tr>\n",
       "    </tbody>\n",
       "</table>\n",
       "<p>... (1995 rows omitted)</p>"
      ],
      "text/plain": [
       "<IPython.core.display.HTML object>"
      ]
     },
     "metadata": {},
     "output_type": "display_data"
    },
    {
     "data": {
      "text/html": [
       "<table border=\"1\" class=\"dataframe\">\n",
       "    <thead>\n",
       "        <tr>\n",
       "            <th>eligible</th> <th>earnings mean</th>\n",
       "        </tr>\n",
       "    </thead>\n",
       "    <tbody>\n",
       "        <tr>\n",
       "            <td>False   </td> <td>15899.6      </td>\n",
       "        </tr>\n",
       "        <tr>\n",
       "            <td>True    </td> <td>15163.2      </td>\n",
       "        </tr>\n",
       "    </tbody>\n",
       "</table>"
      ],
      "text/plain": [
       "<IPython.core.display.HTML object>"
      ]
     },
     "metadata": {},
     "output_type": "display_data"
    },
    {
     "data": {
      "text/html": [
       "<table border=\"1\" class=\"dataframe\">\n",
       "    <thead>\n",
       "        <tr>\n",
       "            <th>eligible</th> <th>count</th>\n",
       "        </tr>\n",
       "    </thead>\n",
       "    <tbody>\n",
       "        <tr>\n",
       "            <td>False   </td> <td>965  </td>\n",
       "        </tr>\n",
       "        <tr>\n",
       "            <td>True    </td> <td>1035 </td>\n",
       "        </tr>\n",
       "    </tbody>\n",
       "</table>"
      ],
      "text/plain": [
       "<IPython.core.display.HTML object>"
      ]
     },
     "metadata": {},
     "output_type": "display_data"
    }
   ],
   "source": [
    "white_50 = earnings.where(\"byr\", 50).where(\"race\", \"white\").sample(2000, with_replacement=False).drop(\"byr\", \"race\", \"interval\")\n",
    "white_50.show(5);\n",
    "white_50.group(\"eligible\", np.mean).show();\n",
    "white_50.group(\"eligible\").show();"
   ]
  },
  {
   "cell_type": "markdown",
   "metadata": {},
   "source": [
    "We want to check if earnings of the two groups, those eligible to be drafted and those not, come from the same distribution. Specifically, we want to check if those eligible to be drafted had lower earnings."
   ]
  },
  {
   "cell_type": "markdown",
   "metadata": {},
   "source": [
    "**Question 2.2.2:** What's our null hypothesis?\n",
    "```\n",
    "BEGIN QUESTION\n",
    "name: q2_2_2\n",
    "manual: true\n",
    "```"
   ]
  },
  {
   "cell_type": "markdown",
   "metadata": {
    "deletable": false,
    "manual_grade": true
   },
   "source": [
    "**SOLUTION:** The earnings of eligible and not eligible white men born in 1950 come from the same underlying distribution."
   ]
  },
  {
   "cell_type": "markdown",
   "metadata": {},
   "source": [
    "**Question 2.2.3:** What's our alternative hypothesis?\n",
    "\n",
    "```\n",
    "BEGIN QUESTION\n",
    "name: q2_2_3\n",
    "manual: true\n",
    "```"
   ]
  },
  {
   "cell_type": "markdown",
   "metadata": {
    "deletable": false,
    "manual_grade": true
   },
   "source": [
    "**SOLUTION:** The earnings of eligible and not eligible white men born in 1950 come from the different underlying distributions, the distribution for eligible white men born in 1950 is lower on average than that of non eligible."
   ]
  },
  {
   "cell_type": "markdown",
   "metadata": {},
   "source": [
    "**Question 2.2.4:** Assign `choice_test_stat` to an integer corresponding to the number of the test statistic we could use to test this hypothesis.\n",
    "\n",
    "1. The difference in mean earnings of white men eligible to be drafted in 1950 and those who were not eligible\n",
    "2. The absolute difference in mean earnings of white men eligible to be drafted in 1950 and those who were not eligible\n",
    "3. The mean earnings of white mean eligible to be drafted in 1950\n",
    "4. The mean earnings of white mean eligible to be drafted in 1950 - 15168.5\n",
    "\n",
    "```\n",
    "BEGIN QUESTION\n",
    "name: q2_2_4    \n",
    "```"
   ]
  },
  {
   "cell_type": "code",
   "execution_count": 77,
   "metadata": {
    "deletable": false
   },
   "outputs": [],
   "source": [
    "choice_test_stat = 1 # SOLUTION"
   ]
  },
  {
   "cell_type": "code",
   "execution_count": 78,
   "metadata": {},
   "outputs": [
    {
     "data": {
      "text/plain": [
       "True"
      ]
     },
     "execution_count": 78,
     "metadata": {},
     "output_type": "execute_result"
    }
   ],
   "source": [
    "# TEST\n",
    "# Choice should be either 1,2,3 or 4\n",
    "choice_test_stat in [1,2,3,4]"
   ]
  },
  {
   "cell_type": "code",
   "execution_count": 79,
   "metadata": {},
   "outputs": [
    {
     "data": {
      "text/plain": [
       "True"
      ]
     },
     "execution_count": 79,
     "metadata": {},
     "output_type": "execute_result"
    }
   ],
   "source": [
    "# TEST\n",
    "# Choice should be an integer\n",
    "type(choice_test_stat) == int"
   ]
  },
  {
   "cell_type": "code",
   "execution_count": 80,
   "metadata": {},
   "outputs": [
    {
     "data": {
      "text/plain": [
       "True"
      ]
     },
     "execution_count": 80,
     "metadata": {},
     "output_type": "execute_result"
    }
   ],
   "source": [
    "# HIDDEN TEST\n",
    "choice_test_stat == 1"
   ]
  },
  {
   "cell_type": "markdown",
   "metadata": {},
   "source": [
    "**Question 2.2.5:** Define the function `test_stat` to return that test statistic for a given `tbl` like the white_50 table.\n",
    "\n",
    "```\n",
    "BEGIN QUESTION\n",
    "name: q2_2_5\n",
    "```"
   ]
  },
  {
   "cell_type": "code",
   "execution_count": 81,
   "metadata": {
    "deletable": false
   },
   "outputs": [
    {
     "data": {
      "text/plain": [
       "736.3929415370585"
      ]
     },
     "execution_count": 81,
     "metadata": {},
     "output_type": "execute_result"
    }
   ],
   "source": [
    "def test_stat(tbl):\n",
    "    grouped = tbl.group(\"eligible\", np.mean) # SOLUTION\n",
    "    return grouped.column(\"earnings mean\").item(0) - grouped.column(\"earnings mean\").item(1) # SOLUTION\n",
    "\n",
    "observed = test_stat(white_50) # SOLUTION\n",
    "observed"
   ]
  },
  {
   "cell_type": "code",
   "execution_count": 82,
   "metadata": {},
   "outputs": [
    {
     "data": {
      "text/plain": [
       "True"
      ]
     },
     "execution_count": 82,
     "metadata": {},
     "output_type": "execute_result"
    }
   ],
   "source": [
    "# TEST\n",
    "type(observed) == float"
   ]
  },
  {
   "cell_type": "code",
   "execution_count": 83,
   "metadata": {},
   "outputs": [
    {
     "data": {
      "text/plain": [
       "True"
      ]
     },
     "execution_count": 83,
     "metadata": {},
     "output_type": "execute_result"
    }
   ],
   "source": [
    "# TEST\n",
    "observed == test_stat(white_50)"
   ]
  },
  {
   "cell_type": "markdown",
   "metadata": {},
   "source": [
    "**Question 2.2.6:** Define the function `simulate_stat` that returns one value of the test statistic, simulated under the null hypothesis. \n",
    "\n",
    "```\n",
    "BEGIN QUESTION\n",
    "name: q2_2_6\n",
    "```"
   ]
  },
  {
   "cell_type": "code",
   "execution_count": 84,
   "metadata": {
    "deletable": false
   },
   "outputs": [
    {
     "data": {
      "text/plain": [
       "2257.687124210597"
      ]
     },
     "execution_count": 84,
     "metadata": {},
     "output_type": "execute_result"
    }
   ],
   "source": [
    "def simulate_stat():\n",
    "    shuffled_column = white_50.sample(with_replacement=False).column(\"eligible\") # SOLUTION\n",
    "    shuffled_table = white_50.with_column(\"eligible\", shuffled_column) # SOLUTION\n",
    "    return test_stat(shuffled_table) # SOLUTION\n",
    "\n",
    "simulate_stat()"
   ]
  },
  {
   "cell_type": "code",
   "execution_count": 85,
   "metadata": {},
   "outputs": [
    {
     "data": {
      "text/plain": [
       "True"
      ]
     },
     "execution_count": 85,
     "metadata": {},
     "output_type": "execute_result"
    }
   ],
   "source": [
    "# TEST\n",
    "# Your function should have some randomness\n",
    "np.std([simulate_stat() for i in np.arange(5)]) > 0"
   ]
  },
  {
   "cell_type": "markdown",
   "metadata": {},
   "source": [
    "**Question 2.2.7:** Plot a histogram of 250 simulated statistics under the null hypothesis.\n",
    "\n",
    "*Note: It may take some time for this cell to run*\n",
    "\n",
    "```\n",
    "BEGIN QUESTION\n",
    "name: q2_2_7\n",
    "manual: true\n",
    "```"
   ]
  },
  {
   "cell_type": "code",
   "execution_count": 86,
   "metadata": {
    "deletable": false
   },
   "outputs": [
    {
     "data": {
      "image/png": "[encoded data removed]",
      "text/plain": [
       "<Figure size 432x288 with 1 Axes>"
      ]
     },
     "metadata": {},
     "output_type": "display_data"
    }
   ],
   "source": [
    "# BEGIN SOLUTION\n",
    "stats = make_array()\n",
    "reps = 250\n",
    "\n",
    "for i in np.arange(reps):\n",
    "    stats = np.append(stats, simulate_stat())\n",
    "\n",
    "Table().with_column(\"Stats\", stats).hist(0)\n",
    "# END SOLUTION"
   ]
  },
  {
   "cell_type": "markdown",
   "metadata": {},
   "source": [
    "**Question 2.2.8:** Calculate the `p_value` of the test and assign `reject` to `True` if we should reject the null hypothesis using a 5% p-value cutoff or `False` otherwise.\n",
    "\n",
    "```\n",
    "BEGIN QUESTION\n",
    "name: q2_2_8\n",
    "```"
   ]
  },
  {
   "cell_type": "code",
   "execution_count": 87,
   "metadata": {
    "deletable": false,
    "scrolled": true
   },
   "outputs": [
    {
     "name": "stdout",
     "output_type": "stream",
     "text": [
      "Calculated p-value to be 0.272; Should we reject? False\n"
     ]
    }
   ],
   "source": [
    "p_value = np.count_nonzero(stats >= observed) / len(stats) # SOLUTION\n",
    "reject = p_value <= 0.05 # SOLUTION\n",
    "\n",
    "print(f\"Calculated p-value to be {p_value}; Should we reject? {reject}\")"
   ]
  },
  {
   "cell_type": "code",
   "execution_count": 88,
   "metadata": {},
   "outputs": [
    {
     "data": {
      "text/plain": [
       "True"
      ]
     },
     "execution_count": 88,
     "metadata": {},
     "output_type": "execute_result"
    }
   ],
   "source": [
    "# TEST\n",
    "# P-value is a probability\n",
    "0 <= p_value <= 1"
   ]
  },
  {
   "cell_type": "code",
   "execution_count": 89,
   "metadata": {},
   "outputs": [
    {
     "data": {
      "text/plain": [
       "True"
      ]
     },
     "execution_count": 89,
     "metadata": {},
     "output_type": "execute_result"
    }
   ],
   "source": [
    "# TEST\n",
    "# reject is a boolean\n",
    "type(reject) == bool or type(reject) == np.bool_"
   ]
  },
  {
   "cell_type": "code",
   "execution_count": 90,
   "metadata": {},
   "outputs": [
    {
     "data": {
      "text/plain": [
       "True"
      ]
     },
     "execution_count": 90,
     "metadata": {},
     "output_type": "execute_result"
    }
   ],
   "source": [
    "# HIDDEN TEST \n",
    "p_value == np.count_nonzero(stats >= observed) / len(stats)"
   ]
  },
  {
   "cell_type": "code",
   "execution_count": 91,
   "metadata": {
    "scrolled": true
   },
   "outputs": [
    {
     "data": {
      "text/plain": [
       "True"
      ]
     },
     "execution_count": 91,
     "metadata": {},
     "output_type": "execute_result"
    }
   ],
   "source": [
    "# HIDDEN TEST\n",
    "reject == (p_value <= 0.05 )"
   ]
  },
  {
   "cell_type": "markdown",
   "metadata": {},
   "source": [
    "## Section 3: A  New Statistic"
   ]
  },
  {
   "cell_type": "markdown",
   "metadata": {},
   "source": [
    "Now let's test the same hypothesis using a new test statistic. This test statistic is called \"Rank sum\".\n",
    "\n",
    "What is a rank? A rank is the position of a value when you sort the entire dataset in ascending order, starting at 1. \n",
    "\n",
    "For example, let's say we have the data 5, 8, 9, 7. The corresponding ranks are 1, 3, 4, 2, because the sorted data set is 5, 8, 9, 7.\n",
    "\n",
    "We do have to worry about breaking ties for this dataset, because we have many zeros.\n",
    "\n",
    "To break ties, we assign all values that are equal to the same rank. To do this, we must\n",
    "\n",
    "1. Get a list of all the unique values\n",
    "2. Sort that list in ascending order\n",
    "3. Rank that list starting at 1\n",
    "4. Assign those ranks back to the original data\n",
    "\n",
    "For the data 6, 6, 7, 5, we get ranks 2, 2, 3, 1. For 0, 0, 0, 15.8, 12.6 we get 1, 1, 1, 3, 2.\n",
    "\n",
    "The **rank sum** for a group within a dataset is equal to the sum of all the ranks of the values **within that group**.\n",
    "\n",
    "We will use the rank sum for those eligible to be drafted as our new statistic.\n",
    "\n",
    "*Note: Our alternative hypothesis is actually a bit different now, as we aren't concerned with the average, rather we are concerned with the rank sum, but this shouldn't affect your work.*"
   ]
  },
  {
   "cell_type": "markdown",
   "metadata": {},
   "source": [
    "**Question 2.3.1:** Consider two samples:\n",
    "\n",
    "|Sample 1| Sample 2|\n",
    "|---------|------|\n",
    "|1|3|\n",
    "|2|4|\n",
    "|10|6|\n",
    "\n",
    "And their corresponding statistic values:\n",
    "\n",
    "|Sample | Mean | Rank Sum |\n",
    "|--------|-----|----------|\n",
    "|Sample 1|4.333|9|\n",
    "|Sample 2| 4.333| 12|\n",
    "\n",
    "How might this Rank Sum statistic help us determine differences in numerical distributions in ways that the mean cannot? In your answer, make sure to specifically reference the provided samples.\n",
    "\n",
    "```\n",
    "BEGIN QUESTION\n",
    "name: q2_3_1\n",
    "manual: true\n",
    "```"
   ]
  },
  {
   "cell_type": "markdown",
   "metadata": {
    "manual_grade": true
   },
   "source": [
    "**SOLUTION:** The Rank Sum statistic is less impacted by outliers than the mean! The sample point 10 in Sample 1 makes the Sample 1 mean equal to the Sample 2 mean, even though most of the points in Sample 1 are smaller than the points in Sample 2."
   ]
  },
  {
   "cell_type": "markdown",
   "metadata": {},
   "source": [
    "**Question 2.3.2:** Which values of the rank sum statistic correspond to our alternative hypothesis that those who were eligible (white men born in 1950 who had their birthday chosen) had a lower income?\n",
    "\n",
    "1. Larger Positive Values\n",
    "2. Smaller Positive Values\n",
    "\n",
    "Assign `which_direction` to either `1` or `2`.\n",
    "\n",
    "```\n",
    "BEGIN QUESTION\n",
    "name: q2_3_2\n",
    "```"
   ]
  },
  {
   "cell_type": "code",
   "execution_count": 92,
   "metadata": {
    "deletable": false
   },
   "outputs": [],
   "source": [
    "which_direction = 2 # SOLUTION"
   ]
  },
  {
   "cell_type": "code",
   "execution_count": 93,
   "metadata": {},
   "outputs": [
    {
     "data": {
      "text/plain": [
       "True"
      ]
     },
     "execution_count": 93,
     "metadata": {},
     "output_type": "execute_result"
    }
   ],
   "source": [
    "# TEST \n",
    "# Assign to either 1 or 2\n",
    "which_direction in [1, 2]"
   ]
  },
  {
   "cell_type": "code",
   "execution_count": 94,
   "metadata": {},
   "outputs": [
    {
     "data": {
      "text/plain": [
       "True"
      ]
     },
     "execution_count": 94,
     "metadata": {},
     "output_type": "execute_result"
    }
   ],
   "source": [
    "# HIDDEN TEST\n",
    "which_direction == 2"
   ]
  },
  {
   "cell_type": "markdown",
   "metadata": {},
   "source": [
    "**Question 2.3.3:** Implement the function `rank_sum_stat` that takes in a `tbl` like `white_50` and returns the rank sum for the eligible group's earnings.\n",
    "\n",
    "To answer this question, define the function `tbl_with_ranks` that takes in any `tbl`, and a string `col` and returns a new table, sorted by `col` in ascending order, with a column called `Rank` that contains the ranks for the corresponding row, ranked by the values in `col`.\n",
    "\n",
    "*Hint 1: ranks start at 1 and go up by 1 each value*\n",
    "\n",
    "*Hint 2: make sure to rank all the data at the same time, and then just sum the ranks for the eligible group*\n",
    "\n",
    "*Hint 3: remember that the group function combines equal values, including equal numerical values!*\n",
    "\n",
    "*Hint 4: after you get the unique values, how could the join function be helpful?*\n",
    "\n",
    "```\n",
    "BEGIN QUESTION\n",
    "name: q2_3_3\n",
    "```"
   ]
  },
  {
   "cell_type": "code",
   "execution_count": 95,
   "metadata": {
    "deletable": false
   },
   "outputs": [
    {
     "data": {
      "text/plain": [
       "584285"
      ]
     },
     "execution_count": 95,
     "metadata": {},
     "output_type": "execute_result"
    }
   ],
   "source": [
    "def tbl_with_ranks(tbl, col):\n",
    "    unique_values = tbl.group(col) # SOLUTION\n",
    "    sorted_unique_values = unique_values.sort(col) # SOLUTION\n",
    "    unique_ranks_arr = np.arange(1, sorted_unique_values.num_rows + 1) # SOLUTION\n",
    "    sorted_unique_with_ranks = sorted_unique_values.with_column(\"Rank\", unique_ranks_arr) # SOLUTION\n",
    "    \n",
    "    original_table_with_unique_ranks = tbl.join(col, sorted_unique_with_ranks) # SOLUTION\n",
    "    return original_table_with_unique_ranks.sort(col)\n",
    "\n",
    "def rank_sum_test(tbl):\n",
    "    tbl_and_ranks = tbl_with_ranks(tbl, \"earnings\")\n",
    "    rank_sums = tbl_and_ranks.group(\"eligible\", sum) # SOLUTION\n",
    "    return rank_sums.where(\"eligible\", True).column(\"Rank sum\").item(0)  # SOLUTION\n",
    "\n",
    "observed_rank_sum = rank_sum_test(white_50) # SOLUTION\n",
    "observed_rank_sum"
   ]
  },
  {
   "cell_type": "code",
   "execution_count": 96,
   "metadata": {},
   "outputs": [
    {
     "data": {
      "text/plain": [
       "True"
      ]
     },
     "execution_count": 96,
     "metadata": {},
     "output_type": "execute_result"
    }
   ],
   "source": [
    "# TEST\n",
    "# This test makes sure that your helper function computes the correct ranks for the 6,6,7,5 example\n",
    "example_table = Table().with_columns(\"value\", make_array(6,6,7,5))\n",
    "example_table_with_ranks = tbl_with_ranks(example_table, \"value\")\n",
    "all(example_table_with_ranks.sort(\"value\").column(\"Rank\") == make_array(1, 2, 2, 3))"
   ]
  },
  {
   "cell_type": "code",
   "execution_count": 97,
   "metadata": {},
   "outputs": [
    {
     "data": {
      "text/plain": [
       "True"
      ]
     },
     "execution_count": 97,
     "metadata": {},
     "output_type": "execute_result"
    }
   ],
   "source": [
    "# TEST\n",
    "# This test makes sure that your helper function computes the correct ranks for the 0, 0, 0, 15.8, 12.6 example\n",
    "example_table = Table().with_columns(\"value\", make_array(0, 0, 0, 15.8, 12.6))\n",
    "example_table_with_ranks = tbl_with_ranks(example_table, \"value\")\n",
    "all(example_table_with_ranks.sort(\"value\").column(\"Rank\") == make_array(1, 1, 1, 2, 3))"
   ]
  },
  {
   "cell_type": "code",
   "execution_count": 98,
   "metadata": {},
   "outputs": [
    {
     "data": {
      "text/plain": [
       "True"
      ]
     },
     "execution_count": 98,
     "metadata": {},
     "output_type": "execute_result"
    }
   ],
   "source": [
    "# HIDDEN TEST\n",
    "observed_rank_sum == rank_sum_test(white_50)"
   ]
  },
  {
   "cell_type": "code",
   "execution_count": 99,
   "metadata": {},
   "outputs": [
    {
     "data": {
      "text/plain": [
       "True"
      ]
     },
     "execution_count": 99,
     "metadata": {},
     "output_type": "execute_result"
    }
   ],
   "source": [
    "# HIDDEN TEST\n",
    "example_table = Table().with_columns(\"earnings\", make_array(0, 0, 0, 15.8, 12.6), \"eligible\", \\\n",
    "                                     make_array(True, False, False, True, True))\n",
    "rank_sum_test(example_table) == 6"
   ]
  },
  {
   "cell_type": "code",
   "execution_count": 100,
   "metadata": {},
   "outputs": [
    {
     "data": {
      "text/plain": [
       "True"
      ]
     },
     "execution_count": 100,
     "metadata": {},
     "output_type": "execute_result"
    }
   ],
   "source": [
    "# HIDDEN TEST\n",
    "example_table = Table().with_columns(\"earnings\", make_array(6,6,7,5), \"eligible\", \\\n",
    "                                     make_array(True, True, True, False))\n",
    "rank_sum_test(example_table) == 7"
   ]
  },
  {
   "cell_type": "markdown",
   "metadata": {},
   "source": [
    "**Question 2.3.4:** Define the function `simulate_rank_sum_stat` that returns one value of the rank sum test statistic, simulated under the null hypothesis.    \n",
    "\n",
    "```\n",
    "BEGIN QUESTION\n",
    "name: q2_3_4\n",
    "```"
   ]
  },
  {
   "cell_type": "code",
   "execution_count": 101,
   "metadata": {
    "deletable": false,
    "scrolled": true
   },
   "outputs": [
    {
     "data": {
      "text/plain": [
       "574287"
      ]
     },
     "execution_count": 101,
     "metadata": {},
     "output_type": "execute_result"
    }
   ],
   "source": [
    "def simulate_rank_sum_stat():\n",
    "    shuffled_column = white_50.sample(with_replacement=False).column(\"eligible\") # SOLUTION\n",
    "    shuffled_table = white_50.with_column(\"eligible\", shuffled_column) # SOLUTION\n",
    "    return rank_sum_test(shuffled_table) # SOLUTION\n",
    "\n",
    "simulate_rank_sum_stat()"
   ]
  },
  {
   "cell_type": "code",
   "execution_count": 102,
   "metadata": {},
   "outputs": [
    {
     "data": {
      "text/plain": [
       "True"
      ]
     },
     "execution_count": 102,
     "metadata": {},
     "output_type": "execute_result"
    }
   ],
   "source": [
    "# TEST\n",
    "# Your function should be random\n",
    "np.std([simulate_rank_sum_stat() for i in np.arange(10)]) > 0"
   ]
  },
  {
   "cell_type": "markdown",
   "metadata": {},
   "source": [
    "**Question 2.3.5:** Plot a histogram of 100 simulated rank sum statistics under the null hypothesis.\n",
    "\n",
    "*Note this may take some time to run*\n",
    "\n",
    "```\n",
    "BEGIN QUESTION\n",
    "name: q2_3_5\n",
    "manual: true\n",
    "```"
   ]
  },
  {
   "cell_type": "code",
   "execution_count": 103,
   "metadata": {
    "deletable": false,
    "scrolled": true
   },
   "outputs": [
    {
     "data": {
      "image/png": "[encoded data removed]",
      "text/plain": [
       "<Figure size 432x288 with 1 Axes>"
      ]
     },
     "metadata": {},
     "output_type": "display_data"
    }
   ],
   "source": [
    "# BEGIN SOLUTION\n",
    "stats = make_array()\n",
    "reps = 100\n",
    "\n",
    "for i in np.arange(reps):\n",
    "    stats = np.append(stats, simulate_rank_sum_stat())\n",
    "\n",
    "Table().with_column(\"Stats\", stats).hist(0)\n",
    "# END SOLUTION"
   ]
  },
  {
   "cell_type": "markdown",
   "metadata": {},
   "source": [
    "**Question 2.3.6:** Assign `p_value_rank` to the p-value of of the rank sum test and assign `reject_rank` to `True` if we should reject the null hypothesis using a 5% p-value cutoff or `False` otherwise.\n",
    "\n",
    "```\n",
    "BEGIN QUESTION\n",
    "name: q2_3_6\n",
    "```"
   ]
  },
  {
   "cell_type": "code",
   "execution_count": 104,
   "metadata": {
    "deletable": false
   },
   "outputs": [
    {
     "name": "stdout",
     "output_type": "stream",
     "text": [
      "Calculated p-value to be 0.62; Should we reject? False\n"
     ]
    }
   ],
   "source": [
    "p_value_rank = np.count_nonzero(stats <= observed_rank_sum) / len(stats) # SOLUTION\n",
    "reject_rank = p_value_rank < 0.05 # SOLUTION\n",
    "\n",
    "print(f\"Calculated p-value to be {p_value_rank}; Should we reject? {reject_rank}\")"
   ]
  },
  {
   "cell_type": "code",
   "execution_count": 105,
   "metadata": {},
   "outputs": [
    {
     "data": {
      "text/plain": [
       "True"
      ]
     },
     "execution_count": 105,
     "metadata": {},
     "output_type": "execute_result"
    }
   ],
   "source": [
    "# TEST\n",
    "# p_value_rank is a probability\n",
    "0 <= p_value_rank <= 1"
   ]
  },
  {
   "cell_type": "code",
   "execution_count": 106,
   "metadata": {},
   "outputs": [
    {
     "data": {
      "text/plain": [
       "True"
      ]
     },
     "execution_count": 106,
     "metadata": {},
     "output_type": "execute_result"
    }
   ],
   "source": [
    "# TEST\n",
    "# reject_rank is a boolean\n",
    "type(reject_rank) == bool or type(reject_rank) == np.bool_"
   ]
  },
  {
   "cell_type": "code",
   "execution_count": 107,
   "metadata": {},
   "outputs": [
    {
     "data": {
      "text/plain": [
       "True"
      ]
     },
     "execution_count": 107,
     "metadata": {},
     "output_type": "execute_result"
    }
   ],
   "source": [
    "# HIDDEN TEST \n",
    "p_value_rank == np.count_nonzero(stats <= observed_rank_sum) / len(stats)"
   ]
  },
  {
   "cell_type": "code",
   "execution_count": 108,
   "metadata": {
    "scrolled": true
   },
   "outputs": [
    {
     "data": {
      "text/plain": [
       "True"
      ]
     },
     "execution_count": 108,
     "metadata": {},
     "output_type": "execute_result"
    }
   ],
   "source": [
    "# HIDDEN TEST\n",
    "reject_rank == (p_value_rank <= 0.05 )"
   ]
  },
  {
   "cell_type": "markdown",
   "metadata": {},
   "source": [
    "**Question 2.3.7:** Angrist found that:\n",
    "\n",
    ">\"Estimates based on the draft lottery indicate that as much as ten years after their\n",
    "discharge from service, white veterans who\n",
    "served at the close of the Vietnam era earned\n",
    "substantially less than nonveterans. The annual earnings loss to white veterans is on the\n",
    "order of $3,500 current dollars, or roughly\n",
    "15 percent of yearly wage and salary earnings in the early 1980s. In contrast, the estimated veteran effects for nonwhites are not\n",
    "statistically significant\"\n",
    "\n",
    "Angrist used different methods (some of which we will learn about in the coming weeks). Using our methods, are we able to duplicate Angrist's findings? Do you think our findings invalidate Angrist's conclusions? Do Angrist's findings invalidate the methods we have taught you?\n",
    "\n",
    "```\n",
    "BEGIN QUESTION\n",
    "name: q2_3_7\n",
    "manual: true\n",
    "```"
   ]
  },
  {
   "cell_type": "markdown",
   "metadata": {
    "deletable": false,
    "manual_grade": true
   },
   "source": [
    "**SOLUTION:** Our findings don't invalidate Angrist's conclusions. Angrist, a trained econometrist, built a more complex model than us. This exercise shows us that we have much to learn after this class!\n",
    "\n",
    "This should be a pretty open ended question-- I think it is especially important to have because we don't tell our students how careful they should be really when using the super powerful methods we've taught them (I talked about this on slack last semester)"
   ]
  },
  {
   "cell_type": "markdown",
   "metadata": {},
   "source": [
    "**You're finished!** Congratulations on mastering* hypothesis testing and bootstrapping. Time to submit."
   ]
  },
  {
   "cell_type": "markdown",
   "metadata": {},
   "source": [
    "## Submission"
   ]
  },
  {
   "cell_type": "markdown",
   "metadata": {},
   "source": [
    "Once you're finished, select \"Save and Checkpoint\" in the File menu and then execute the `submit` cell below. The result will contain a link that you can use to check that your assignment has been submitted successfully. **IMPORTANT: Make sure to check that your submission is not empty. We cannot guarantee that the submission will be valid, so please check it now.** If you submit more than once before the deadline, we will only grade your final submission. If you mistakenly submit the wrong one, you can head to [okpy.org](https://okpy.org/) and flag the correct version. To do so, go to the website, click on this assignment, and find the version you would like to have graded. There should be an option to flag that submission for grading!\n",
    "\n",
    "**NOTE:** The tests that are provided are not comprehensive and act as sanity checks (i.e. to make sure you answer is in the correct form, etc.). Passing the tests for a question does not mean that you answered the question correctly."
   ]
  },
  {
   "cell_type": "code",
   "execution_count": null,
   "metadata": {},
   "outputs": [],
   "source": [
    "# For your convenience, you can run this cell to run all the tests at once!\n",
    "import os\n",
    "print(\"Running all tests...\")\n",
    "_ = [ok.grade(q[:-3]) for q in os.listdir(\"tests\") if q.startswith('q') and len(q) <= 10]\n",
    "print(\"Finished running all tests.\")"
   ]
  },
  {
   "cell_type": "code",
   "execution_count": null,
   "metadata": {},
   "outputs": [],
   "source": [
    "_ = ok.submit()"
   ]
  }
 ],
 "metadata": {
  "kernelspec": {
   "display_name": "Python 3",
   "language": "python",
   "name": "python3"
  },
  "language_info": {
   "codemirror_mode": {
    "name": "ipython",
    "version": 3
   },
   "file_extension": ".py",
   "mimetype": "text/x-python",
   "name": "python",
   "nbconvert_exporter": "python",
   "pygments_lexer": "ipython3",
   "version": "3.7.6"
  }
 },
 "nbformat": 4,
 "nbformat_minor": 4
}
